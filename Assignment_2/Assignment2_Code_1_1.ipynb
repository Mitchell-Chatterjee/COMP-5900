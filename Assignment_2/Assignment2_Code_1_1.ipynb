{
  "nbformat": 4,
  "nbformat_minor": 0,
  "metadata": {
    "colab": {
      "provenance": [],
      "collapsed_sections": []
    },
    "kernelspec": {
      "display_name": "Python 3",
      "language": "python",
      "name": "python3"
    },
    "language_info": {
      "codemirror_mode": {
        "name": "ipython",
        "version": 3
      },
      "file_extension": ".py",
      "mimetype": "text/x-python",
      "name": "python",
      "nbconvert_exporter": "python",
      "pygments_lexer": "ipython3",
      "version": "3.8.3"
    },
    "accelerator": "GPU",
    "gpuClass": "standard"
  },
  "cells": [
    {
      "cell_type": "markdown",
      "metadata": {
        "id": "21wIyEdpXb_-"
      },
      "source": [
        "#COMP5900 Assignment 2 (Supplementary Materials)\n",
        "Use this code to answer the questions in Assignment 2 Part 1."
      ]
    },
    {
      "cell_type": "markdown",
      "metadata": {
        "id": "9BoDEkOLJ5Pa"
      },
      "source": [
        "# Sentiment Analysis of IMDB Dataset\n",
        "\n",
        "In the following, we'll be building a machine learning model to detect sentiment (i.e. detect if a sentence is positive or negative). This will be done on movie reviews, using the [IMDb dataset](http://ai.stanford.edu/~amaas/data/sentiment/).\n",
        "\n",
        "\n",
        "We will use LSTM. \n",
        "\n",
        "An easy way of running this Jupiter notebook is to mount your gogle drive so you can use it for loading data and storting the results.\n",
        "\n"
      ]
    },
    {
      "cell_type": "code",
      "source": [
        "from google.colab import drive\n",
        "drive.mount('/content/drive')\n"
      ],
      "metadata": {
        "id": "2l32uoIr8vaK",
        "colab": {
          "base_uri": "https://localhost:8080/"
        },
        "outputId": "384bc93e-9827-4ede-cae7-f6af77ea4301"
      },
      "execution_count": null,
      "outputs": [
        {
          "output_type": "stream",
          "name": "stdout",
          "text": [
            "Mounted at /content/drive\n"
          ]
        }
      ]
    },
    {
      "cell_type": "markdown",
      "source": [
        "Change the working directory to where the relevant files are."
      ],
      "metadata": {
        "id": "1etycQz_rknu"
      }
    },
    {
      "cell_type": "code",
      "source": [
        "cd 'drive/MyDrive/COMP5900-F22Assignments/Assignment2'"
      ],
      "metadata": {
        "colab": {
          "base_uri": "https://localhost:8080/"
        },
        "id": "aJxqgX73v4ct",
        "outputId": "2d43651d-1534-4a40-d2b8-69f8d6a11098"
      },
      "execution_count": null,
      "outputs": [
        {
          "output_type": "stream",
          "name": "stdout",
          "text": [
            "/content/drive/MyDrive/COMP5900-F22Assignments/Assignment2\n"
          ]
        }
      ]
    },
    {
      "cell_type": "code",
      "source": [
        "!ls\n"
      ],
      "metadata": {
        "id": "CCmNsYBeQ40l",
        "colab": {
          "base_uri": "https://localhost:8080/"
        },
        "outputId": "a0e8cc40-da19-445b-d2df-43d4d176af5e"
      },
      "execution_count": null,
      "outputs": [
        {
          "output_type": "stream",
          "name": "stdout",
          "text": [
            " Assignment_2_Report.gdoc   best-model.pt  'IMDB Dataset.csv'   vectors_cache\n"
          ]
        }
      ]
    },
    {
      "cell_type": "code",
      "source": [
        "import numpy as np \n",
        "import pandas as pd\n",
        "import torch\n",
        "import torch.nn as nn\n",
        "import torch.nn.functional as F\n",
        "from nltk.corpus import stopwords \n",
        "from collections import Counter\n",
        "import string\n",
        "import re\n",
        "import seaborn as sns\n",
        "from tqdm import tqdm\n",
        "import matplotlib.pyplot as plt\n",
        "from torch.utils.data import TensorDataset, DataLoader\n",
        "from sklearn.model_selection import train_test_split\n",
        "import torchtext\n",
        "from torchtext.vocab import GloVe"
      ],
      "metadata": {
        "id": "icj_Smzh76-y"
      },
      "execution_count": null,
      "outputs": []
    },
    {
      "cell_type": "code",
      "source": [
        "is_cuda = torch.cuda.is_available()\n",
        "if is_cuda:\n",
        "    device = torch.device(\"cuda\")\n",
        "    print(\"GPU is available\")\n",
        "else:\n",
        "    device = torch.device(\"cpu\")\n",
        "    print(\"GPU not available, CPU used\")"
      ],
      "metadata": {
        "id": "JT8ar-_b79Jj",
        "colab": {
          "base_uri": "https://localhost:8080/"
        },
        "outputId": "7063f798-c7cb-4d1f-d5f7-1aa4bd1c12e1"
      },
      "execution_count": null,
      "outputs": [
        {
          "output_type": "stream",
          "name": "stdout",
          "text": [
            "GPU is available\n"
          ]
        }
      ]
    },
    {
      "cell_type": "markdown",
      "source": [
        "Load the provided csv file into a panda dataframe. The dataset has a total of 50,000 samples. Often times it helps to work only on a smaller sebset of data and once debuging is done you can run the code on the fukk dataset. For example, df.sample(10000) create a subset of 10,000 samples out of the 50,000 samples."
      ],
      "metadata": {
        "id": "g3XNj_5UsD8Z"
      }
    },
    {
      "cell_type": "code",
      "source": [
        "base_csv = 'IMDB Dataset.csv'\n",
        "df = pd.read_csv(base_csv)\n",
        "# df=df.sample(10000)\n",
        "df.shape"
      ],
      "metadata": {
        "id": "BzRZdZPo79Wp",
        "colab": {
          "base_uri": "https://localhost:8080/"
        },
        "outputId": "19461630-82ad-4d98-848d-9cc6e0fdf7c4"
      },
      "execution_count": null,
      "outputs": [
        {
          "output_type": "execute_result",
          "data": {
            "text/plain": [
              "(50000, 2)"
            ]
          },
          "metadata": {},
          "execution_count": 6
        }
      ]
    },
    {
      "cell_type": "markdown",
      "source": [
        "Here is a few samples of the dataset."
      ],
      "metadata": {
        "id": "CeMrDCM_s-Mg"
      }
    },
    {
      "cell_type": "code",
      "source": [
        "df.head()\n"
      ],
      "metadata": {
        "id": "xrB29AApwQS0",
        "colab": {
          "base_uri": "https://localhost:8080/",
          "height": 206
        },
        "outputId": "496cf01e-4723-4b66-c714-19276fc64275"
      },
      "execution_count": null,
      "outputs": [
        {
          "output_type": "execute_result",
          "data": {
            "text/plain": [
              "                                              review sentiment\n",
              "0  One of the other reviewers has mentioned that ...  positive\n",
              "1  A wonderful little production. <br /><br />The...  positive\n",
              "2  I thought this was a wonderful way to spend ti...  positive\n",
              "3  Basically there's a family where a little boy ...  negative\n",
              "4  Petter Mattei's \"Love in the Time of Money\" is...  positive"
            ],
            "text/html": [
              "\n",
              "  <div id=\"df-381cc993-a322-4faf-977a-ae370580abc3\">\n",
              "    <div class=\"colab-df-container\">\n",
              "      <div>\n",
              "<style scoped>\n",
              "    .dataframe tbody tr th:only-of-type {\n",
              "        vertical-align: middle;\n",
              "    }\n",
              "\n",
              "    .dataframe tbody tr th {\n",
              "        vertical-align: top;\n",
              "    }\n",
              "\n",
              "    .dataframe thead th {\n",
              "        text-align: right;\n",
              "    }\n",
              "</style>\n",
              "<table border=\"1\" class=\"dataframe\">\n",
              "  <thead>\n",
              "    <tr style=\"text-align: right;\">\n",
              "      <th></th>\n",
              "      <th>review</th>\n",
              "      <th>sentiment</th>\n",
              "    </tr>\n",
              "  </thead>\n",
              "  <tbody>\n",
              "    <tr>\n",
              "      <th>0</th>\n",
              "      <td>One of the other reviewers has mentioned that ...</td>\n",
              "      <td>positive</td>\n",
              "    </tr>\n",
              "    <tr>\n",
              "      <th>1</th>\n",
              "      <td>A wonderful little production. &lt;br /&gt;&lt;br /&gt;The...</td>\n",
              "      <td>positive</td>\n",
              "    </tr>\n",
              "    <tr>\n",
              "      <th>2</th>\n",
              "      <td>I thought this was a wonderful way to spend ti...</td>\n",
              "      <td>positive</td>\n",
              "    </tr>\n",
              "    <tr>\n",
              "      <th>3</th>\n",
              "      <td>Basically there's a family where a little boy ...</td>\n",
              "      <td>negative</td>\n",
              "    </tr>\n",
              "    <tr>\n",
              "      <th>4</th>\n",
              "      <td>Petter Mattei's \"Love in the Time of Money\" is...</td>\n",
              "      <td>positive</td>\n",
              "    </tr>\n",
              "  </tbody>\n",
              "</table>\n",
              "</div>\n",
              "      <button class=\"colab-df-convert\" onclick=\"convertToInteractive('df-381cc993-a322-4faf-977a-ae370580abc3')\"\n",
              "              title=\"Convert this dataframe to an interactive table.\"\n",
              "              style=\"display:none;\">\n",
              "        \n",
              "  <svg xmlns=\"http://www.w3.org/2000/svg\" height=\"24px\"viewBox=\"0 0 24 24\"\n",
              "       width=\"24px\">\n",
              "    <path d=\"M0 0h24v24H0V0z\" fill=\"none\"/>\n",
              "    <path d=\"M18.56 5.44l.94 2.06.94-2.06 2.06-.94-2.06-.94-.94-2.06-.94 2.06-2.06.94zm-11 1L8.5 8.5l.94-2.06 2.06-.94-2.06-.94L8.5 2.5l-.94 2.06-2.06.94zm10 10l.94 2.06.94-2.06 2.06-.94-2.06-.94-.94-2.06-.94 2.06-2.06.94z\"/><path d=\"M17.41 7.96l-1.37-1.37c-.4-.4-.92-.59-1.43-.59-.52 0-1.04.2-1.43.59L10.3 9.45l-7.72 7.72c-.78.78-.78 2.05 0 2.83L4 21.41c.39.39.9.59 1.41.59.51 0 1.02-.2 1.41-.59l7.78-7.78 2.81-2.81c.8-.78.8-2.07 0-2.86zM5.41 20L4 18.59l7.72-7.72 1.47 1.35L5.41 20z\"/>\n",
              "  </svg>\n",
              "      </button>\n",
              "      \n",
              "  <style>\n",
              "    .colab-df-container {\n",
              "      display:flex;\n",
              "      flex-wrap:wrap;\n",
              "      gap: 12px;\n",
              "    }\n",
              "\n",
              "    .colab-df-convert {\n",
              "      background-color: #E8F0FE;\n",
              "      border: none;\n",
              "      border-radius: 50%;\n",
              "      cursor: pointer;\n",
              "      display: none;\n",
              "      fill: #1967D2;\n",
              "      height: 32px;\n",
              "      padding: 0 0 0 0;\n",
              "      width: 32px;\n",
              "    }\n",
              "\n",
              "    .colab-df-convert:hover {\n",
              "      background-color: #E2EBFA;\n",
              "      box-shadow: 0px 1px 2px rgba(60, 64, 67, 0.3), 0px 1px 3px 1px rgba(60, 64, 67, 0.15);\n",
              "      fill: #174EA6;\n",
              "    }\n",
              "\n",
              "    [theme=dark] .colab-df-convert {\n",
              "      background-color: #3B4455;\n",
              "      fill: #D2E3FC;\n",
              "    }\n",
              "\n",
              "    [theme=dark] .colab-df-convert:hover {\n",
              "      background-color: #434B5C;\n",
              "      box-shadow: 0px 1px 3px 1px rgba(0, 0, 0, 0.15);\n",
              "      filter: drop-shadow(0px 1px 2px rgba(0, 0, 0, 0.3));\n",
              "      fill: #FFFFFF;\n",
              "    }\n",
              "  </style>\n",
              "\n",
              "      <script>\n",
              "        const buttonEl =\n",
              "          document.querySelector('#df-381cc993-a322-4faf-977a-ae370580abc3 button.colab-df-convert');\n",
              "        buttonEl.style.display =\n",
              "          google.colab.kernel.accessAllowed ? 'block' : 'none';\n",
              "\n",
              "        async function convertToInteractive(key) {\n",
              "          const element = document.querySelector('#df-381cc993-a322-4faf-977a-ae370580abc3');\n",
              "          const dataTable =\n",
              "            await google.colab.kernel.invokeFunction('convertToInteractive',\n",
              "                                                     [key], {});\n",
              "          if (!dataTable) return;\n",
              "\n",
              "          const docLinkHtml = 'Like what you see? Visit the ' +\n",
              "            '<a target=\"_blank\" href=https://colab.research.google.com/notebooks/data_table.ipynb>data table notebook</a>'\n",
              "            + ' to learn more about interactive tables.';\n",
              "          element.innerHTML = '';\n",
              "          dataTable['output_type'] = 'display_data';\n",
              "          await google.colab.output.renderOutput(dataTable, element);\n",
              "          const docLink = document.createElement('div');\n",
              "          docLink.innerHTML = docLinkHtml;\n",
              "          element.appendChild(docLink);\n",
              "        }\n",
              "      </script>\n",
              "    </div>\n",
              "  </div>\n",
              "  "
            ]
          },
          "metadata": {},
          "execution_count": 7
        }
      ]
    },
    {
      "cell_type": "markdown",
      "source": [
        "Target labels are in the form of text (positive or negative. Lets convert that column into a binary variable with values 0 and 1. "
      ],
      "metadata": {
        "id": "Lt8KlFw-tB2S"
      }
    },
    {
      "cell_type": "code",
      "source": [
        "df['sentiment'].replace({'positive':1, 'negative':0},inplace=True)\n",
        "# df.head()"
      ],
      "metadata": {
        "id": "cQGwAbDQwTP6"
      },
      "execution_count": null,
      "outputs": []
    },
    {
      "cell_type": "markdown",
      "source": [
        "Let's split data into training and validation sets. We first set aside 15% for test. From the remaining we set side 82% for training and the rest for validation. This will roughly split the data 70/15/15."
      ],
      "metadata": {
        "id": "i6SKsWEwrbNB"
      }
    },
    {
      "cell_type": "code",
      "source": [
        "X,y = df['review'].values,df['sentiment'].values\n",
        "x_train1, x_test1, y_train, y_test = train_test_split(X, y, train_size=0.85, random_state=1)\n",
        "\n",
        "x_train1, x_val1, y_train, y_val = train_test_split(x_train1, y_train, train_size=0.823, random_state=1)\n"
      ],
      "metadata": {
        "id": "VD0ys1sC8Tcf"
      },
      "execution_count": null,
      "outputs": []
    },
    {
      "cell_type": "markdown",
      "source": [
        "We can see how many examples are in each split."
      ],
      "metadata": {
        "id": "cfn_OQ3Lt26J"
      }
    },
    {
      "cell_type": "code",
      "source": [
        "print(f'Number of training examples: {len(x_train1)}')\n",
        "print(f'Number of validation examples: {len(x_val1)}')\n",
        "print(f'Number of test examples: {len(x_test1)}')"
      ],
      "metadata": {
        "colab": {
          "base_uri": "https://localhost:8080/"
        },
        "id": "yE3_IDAotoZW",
        "outputId": "b807f7b5-3c31-4741-f869-b5d0895fcb19"
      },
      "execution_count": null,
      "outputs": [
        {
          "output_type": "stream",
          "name": "stdout",
          "text": [
            "Number of training examples: 34977\n",
            "Number of validation examples: 7523\n",
            "Number of test examples: 7500\n"
          ]
        }
      ]
    },
    {
      "cell_type": "markdown",
      "source": [
        "Next, we have to build a _vocabulary_. This is a effectively a look up table where every unique word in your data set has a corresponding _index_ (an integer).\n",
        "\n",
        "We do this as our machine learning model cannot operate on strings, only numbers. Each _index_ is used to construct a _one-hot_ vector for each word. A one-hot vector is a vector where all of the elements are 0, except one, which is 1, and dimensionality is the total number of unique words in your vocabulary, commonly denoted by $V$.\n",
        "\n",
        "![](http://people.scs.carleton.ca/~majidkomeili/Teaching/COMP5900-F22/Images/One-hot.png)\n",
        "\n",
        "The number of unique words in our training set is over 100,000, which means that our one-hot vectors will have over 100,000 dimensions! This will make training slow and possibly won't fit onto the GPU. We only keep the top 25,000 most common words. The following builds the vocabulary, only keeping the most common 25,000 tokens.\n",
        "\n",
        "Instead of having our word embeddings initialized randomly, they are initialized with these pre-trained pre-trained word embeddings. We will use [Glove](https://nlp.stanford.edu/projects/glove/).\n",
        "\n",
        "The theory is that these pre-trained vectors already have words with similar semantic meaning close together in vector space, e.g. \"terrible\", \"awful\", \"dreadful\" are nearby. This gives our embedding layer a good initialization as it does not have to learn these relations from scratch."
      ],
      "metadata": {
        "id": "ZjcDsrpEulAX"
      }
    },
    {
      "cell_type": "markdown",
      "source": [
        "Here `6B` indicates these vectors were trained on 6 billion tokens and `100` indicates these vectors are 100-dimensional.\n",
        "\n",
        "**Note**: these vectors are about 862MB, so watch out if you have a limited internet connection. You may use `vectors_cache` to cache it once downloaded. "
      ],
      "metadata": {
        "id": "0_n2fqlw8j6W"
      }
    },
    {
      "cell_type": "code",
      "source": [
        "glove = GloVe(name='6B', dim=100, max_vectors=25000, cache = \"./vectors_cache\") "
      ],
      "metadata": {
        "id": "sL_MKyK-CRPZ"
      },
      "execution_count": null,
      "outputs": []
    },
    {
      "cell_type": "markdown",
      "source": [],
      "metadata": {
        "id": "-aggV4jzt0Iz"
      }
    },
    {
      "cell_type": "markdown",
      "source": [
        "We can see the index of a word using `stoi` (**s**tring **to**  **i**nt) method."
      ],
      "metadata": {
        "id": "vKDKDywR-HMZ"
      }
    },
    {
      "cell_type": "code",
      "source": [
        "print(glove.stoi['movie'])"
      ],
      "metadata": {
        "id": "TfFWgqcxsF5h",
        "colab": {
          "base_uri": "https://localhost:8080/"
        },
        "outputId": "7d599287-27e1-4f0d-eb3e-5c812aa123ed"
      },
      "execution_count": null,
      "outputs": [
        {
          "output_type": "stream",
          "name": "stdout",
          "text": [
            "1005\n"
          ]
        }
      ]
    },
    {
      "cell_type": "markdown",
      "source": [
        "and here is the actual embedding of the word"
      ],
      "metadata": {
        "id": "C5YKDc752rg2"
      }
    },
    {
      "cell_type": "code",
      "source": [
        "glove.vectors[1005]"
      ],
      "metadata": {
        "colab": {
          "base_uri": "https://localhost:8080/"
        },
        "id": "INuMXL-stXJe",
        "outputId": "ae8cb4dc-b389-4d84-93ab-bde5d6e3bc3a"
      },
      "execution_count": null,
      "outputs": [
        {
          "output_type": "execute_result",
          "data": {
            "text/plain": [
              "tensor([ 0.3825,  0.1482,  0.6060, -0.5153,  0.4399,  0.0611, -0.6272, -0.0254,\n",
              "         0.1643, -0.2210,  0.1442, -0.3721, -0.2168, -0.0890,  0.0979,  0.6561,\n",
              "         0.6446,  0.4770,  0.8385,  1.6486,  0.8892, -0.1181, -0.0125, -0.5208,\n",
              "         0.7785,  0.4872, -0.0150, -0.1413, -0.3475, -0.2959,  0.1028,  0.5719,\n",
              "        -0.0456,  0.0264,  0.5382,  0.3226,  0.4079, -0.0436, -0.1460, -0.4835,\n",
              "         0.3204,  0.5509, -0.7626,  0.4327,  0.6175, -0.3650, -0.6060, -0.7962,\n",
              "         0.3929, -0.2367, -0.3472, -0.6120,  0.5475,  0.9481,  0.2094, -2.7771,\n",
              "        -0.6022,  0.8495,  1.2549,  0.0179, -0.0419,  2.1147, -0.0266, -0.2810,\n",
              "         0.6812, -0.1417,  0.9925,  0.4988, -0.6754,  0.6417,  0.4230, -0.2791,\n",
              "         0.0634,  0.6891, -0.3618,  0.0537, -0.1681,  0.1942, -0.4707, -0.1480,\n",
              "        -0.5899, -0.2797,  0.1679,  0.1057, -1.7601,  0.0088, -0.8333, -0.5836,\n",
              "        -0.3708, -0.5659,  0.2070,  0.0713,  0.0556, -0.2976, -0.0727, -0.2560,\n",
              "         0.4269,  0.0589,  0.0911,  0.4728])"
            ]
          },
          "metadata": {},
          "execution_count": 13
        }
      ]
    },
    {
      "cell_type": "markdown",
      "source": [
        "We can see the vocabulary directly using `itos` (**i**nt **to**  **s**tring) method."
      ],
      "metadata": {
        "id": "jBEYc8RW9_CX"
      }
    },
    {
      "cell_type": "code",
      "source": [
        "print(glove.itos[1005])"
      ],
      "metadata": {
        "id": "I-qxtccRsxBh",
        "colab": {
          "base_uri": "https://localhost:8080/"
        },
        "outputId": "591eda93-2687-4aff-bcac-e95daff1203c"
      },
      "execution_count": null,
      "outputs": [
        {
          "output_type": "stream",
          "name": "stdout",
          "text": [
            "movie\n"
          ]
        }
      ]
    },
    {
      "cell_type": "markdown",
      "source": [
        "## Prepare Data\n"
      ],
      "metadata": {
        "id": "bNkFlWhq_OXy"
      }
    },
    {
      "cell_type": "code",
      "source": [
        "def preprocess_string(s):\n",
        "    # Remove all non-word characters (everything except numbers and letters)\n",
        "    s = re.sub(r\"[^\\w\\s]\", '', s)\n",
        "    # Replace all runs of whitespaces with no space\n",
        "    s = re.sub(r\"\\s+\", '', s)\n",
        "    # replace digits with no space\n",
        "    s = re.sub(r\"\\d\", '', s)\n",
        "\n",
        "    return s"
      ],
      "metadata": {
        "id": "GPhaR683B-ek"
      },
      "execution_count": null,
      "outputs": []
    },
    {
      "cell_type": "markdown",
      "source": [
        "We keep only the words that are in the vocabulary. "
      ],
      "metadata": {
        "id": "Grbtps2X_gJb"
      }
    },
    {
      "cell_type": "code",
      "source": [
        "x_train, x_val, x_test = [],[],[]\n",
        "for sent in x_train1:\n",
        "        x_train.append([glove.stoi[preprocess_string(word)] for word in sent.lower().split()\n",
        "                                  if preprocess_string(word) in glove.stoi])\n",
        "\n",
        "for sent in x_val1:        \n",
        "        x_val.append([glove.stoi[preprocess_string(word)] for word in sent.lower().split()\n",
        "                                  if preprocess_string(word) in glove.stoi])  \n",
        "        \n",
        "for sent in x_test1:        \n",
        "        x_test.append([glove.stoi[preprocess_string(word)] for word in sent.lower().split()\n",
        "                                  if preprocess_string(word) in glove.stoi])      "
      ],
      "metadata": {
        "id": "DSYXuZ0KvICP"
      },
      "execution_count": null,
      "outputs": []
    },
    {
      "cell_type": "markdown",
      "source": [
        "Now we pad each sample to have a predefined length. For this we clip the long samples and zero-pad shorter onces. Therefore, at the end all samples will have a length of `seq_len`. In our dataset most reviews have less than 500 word. Seo, we set `seq_len` to 500. "
      ],
      "metadata": {
        "id": "3LgAJSov_0r3"
      }
    },
    {
      "cell_type": "code",
      "source": [
        "def padding_(sentences, seq_len):\n",
        "    features = np.zeros((len(sentences), seq_len),dtype=int)\n",
        "    for ii, review in enumerate(sentences):\n",
        "        if len(review) != 0:\n",
        "            features[ii, -len(review):] = np.array(review)[:seq_len]\n",
        "    return features"
      ],
      "metadata": {
        "id": "H4ipUZD7Aq4W"
      },
      "execution_count": null,
      "outputs": []
    },
    {
      "cell_type": "code",
      "source": [
        "x_train_pad = padding_(x_train,500)\n",
        "x_val_pad = padding_(x_val,500)\n",
        "x_test_pad = padding_(x_test,500)"
      ],
      "metadata": {
        "id": "momtcu6aAq9I"
      },
      "execution_count": null,
      "outputs": []
    },
    {
      "cell_type": "code",
      "source": [
        "# create Tensor datasets\n",
        "train_data = TensorDataset(torch.from_numpy(x_train_pad), torch.from_numpy(y_train))\n",
        "valid_data = TensorDataset(torch.from_numpy(x_val_pad), torch.from_numpy(y_val))\n",
        "test_data = TensorDataset(torch.from_numpy(x_test_pad), torch.from_numpy(y_test))\n",
        "\n",
        "batch_size = 100\n",
        "\n",
        "train_loader = DataLoader(train_data, shuffle=True, batch_size=batch_size)\n",
        "valid_loader = DataLoader(valid_data, shuffle=True, batch_size=batch_size)\n",
        "test_loader = DataLoader(test_data, shuffle=True, batch_size=batch_size)"
      ],
      "metadata": {
        "id": "B_BmjrXXZ2bs"
      },
      "execution_count": null,
      "outputs": []
    },
    {
      "cell_type": "markdown",
      "source": [
        "## Build the Model\n",
        "\n",
        "The next stage is building the model that we'll eventually train and evaluate. Our three layers are an _embedding_ layer, our RNN/LSTM, and a _linear_ layer. \n",
        "\n",
        "The embedding layer is used to transform our sparse one-hot vector (sparse as most of the elements are 0) into a dense embedding vector (dense as the dimensionality is a lot smaller and all the elements are real numbers). This embedding layer is simply a single fully connected layer. As well as reducing the dimensionality of the input to the LSTM, there is the theory that words which have similar impact on the sentiment of the review are mapped close together in this dense vector space. We will initialize the embedding layer with GloVe embeddings.\n",
        "\n",
        "![](http://people.scs.carleton.ca/~majidkomeili/Teaching/COMP5900-F22/Images/Embedding.png)\n",
        "\n",
        "\n",
        "The MyRNN layer is our LSTM which takes in our dense vector $x_{t}$ and the previous hidden state $h_{t-1}$, and the previous cell memory $c_{t-1}$ which it uses to calculate the next hidden state, $h_t$.\n",
        "\n",
        "$$(h_t, c_t) = \\text{LSTM}(x_t, h_t, c_t)$$\n",
        "\n",
        "Thus, the model using an LSTM looks something like (with the embedding layers omitted):\n",
        "\n",
        "![](http://people.scs.carleton.ca/~majidkomeili/Teaching/COMP5900-F22/Images/LSTM.png)\n",
        "\n",
        "The initial cell state, $c_0$, like the initial hidden state is initialized to a tensor of all zeros. \n",
        "\n",
        "Finally, the linear layer takes the final hidden state and feeds it through a fully connected layer, $f(h_T)$, transforming it to the correct output dimension.\n",
        "\n",
        "\n",
        "### Bidirectional RNN\n",
        "\n",
        "As well as having an RNN processing the words in the sentence from the first to the last (a forward RNN), we have a second RNN processing the words in the sentence from the **last to the first** (a backward RNN). \n",
        "\n",
        "In PyTorch, the hidden state (and cell state) tensors returned by the forward and backward RNNs are stacked on top of each other in a single tensor.\n",
        "\n",
        "We make our sentiment prediction using a concatenation of the last hidden state from the forward LSTM (obtained from final word of the sentence), $h_T^\\rightarrow$, and the last hidden state from the backward LSTM (obtained from the first word of the sentence), $h_T^\\leftarrow$, i.e. $\\hat{y}=f(h_T^\\rightarrow, h_T^\\leftarrow)$   \n",
        "\n",
        "\n",
        "### Multi-layer RNN\n",
        "\n",
        "In multi-layer LSTM (also called *deep LSTM*) we add additional LSTMs on top of the initial standard LSTM, where each LSTM added is another *layer*. The hidden state output by the first (bottom) LSTM at time-step $t$ will be the input to the LSTM above it at time step $t$. The prediction is then made from the final hidden state of the final (highest) layer.\n",
        "\n",
        "\n",
        "### Implementation Details\n",
        "\n",
        "To use an RNN instead of the LSTM, you can use `nn.RNN` instead of `nn.LSTM`. Also, note that the LSTM returns the `output` and a tuple of the final `hidden` state and the final `cell` state, whereas the standard RNN only returned the `output` and final `hidden` state. \n",
        "\n",
        "As the final hidden state of our LSTM has both a forward and a backward component, which will be concatenated together, the size of the input to the `nn.Linear` layer is twice that of the hidden dimension size.\n",
        "\n",
        "Implementing bidirectionality and adding additional layers are done by passing values for the `num_layers` and `bidirectional` arguments for the RNN/LSTM. \n",
        "\n",
        "The final hidden state, `hidden`, has a shape of _[num layers $\\times$ num directions, batch size, hid dim]_. These are ordered: _[forward_layer_0, backward_layer_0, forward_layer_1, backward_layer 1]_. As we want the final (top) layer forward and backward hidden states, we get `hidden[2,:,:]` and `hidden[3,:,:]`, and concatenate them together before passing them to the linear layer. \n",
        "\n",
        "The input dimension is the dimension of the one-hot vectors, which is equal to the vocabulary size. \n",
        "\n",
        "The embedding dimension is the size of the dense word vectors i.e. 100.\n",
        "\n",
        "The hidden dimension is the size of the hidden states i.e. 256.\n",
        "\n",
        "The output dimension is usually the number of classes, however in the case of only 2 classes the output value is between 0 and 1 and thus can be 1-dimensional, i.e. a single scalar real number."
      ],
      "metadata": {
        "id": "ihP3iUtW--rv"
      }
    },
    {
      "cell_type": "code",
      "source": [
        "class MyRNN(nn.Module):\n",
        "    def __init__(self):\n",
        "        super(MyRNN,self).__init__()\n",
        " \n",
        "        self.output_dim = 1        \n",
        "        self.hidden_dim = 200\n",
        "        embedding_dim = 100\n",
        "        bidirectional = True\n",
        "        num_layers = 2\n",
        "      \n",
        "        # We load the word embeddings into the `embedding` layer of our model.\n",
        "        self.embedding = nn.Embedding.from_pretrained(glove.vectors,freeze=True) \n",
        "        \n",
        "        self.rnn = nn.RNN(input_size=embedding_dim,\n",
        "                            hidden_size=self.hidden_dim,\n",
        "                            num_layers=num_layers,\n",
        "                            bidirectional=bidirectional,\n",
        "                            batch_first=True)\n",
        "        \n",
        "        \n",
        "        self.fc = nn.Linear(self.hidden_dim * 2, self.output_dim)\n",
        "        \n",
        "    def forward(self,x):\n",
        "        embeds = self.embedding(x)  \n",
        "        \n",
        "        output, hidden = self.rnn(embeds)\n",
        "        #output = [sent len, batch size, hid dim * 2]        \n",
        "        #hidden = [num layers * 2, batch size, hid dim]\n",
        "        #cell = [num layers * 2, batch size, hid dim]\n",
        "        \n",
        "        #concat the final forward (hidden[2,:,:]) and backward (hidden[3,:,:]) hidden layers\n",
        "        hidden = torch.cat((hidden[2,:,:], hidden[3,:,:]), dim = 1)        \n",
        "        logit = self.fc(hidden)\n",
        "                \n",
        "        return logit"
      ],
      "metadata": {
        "id": "7yZ_KM40aBV0"
      },
      "execution_count": null,
      "outputs": []
    },
    {
      "cell_type": "markdown",
      "source": [
        "We now create an instance of our RNN class.\n",
        "We'll print out the total number of parameters in our model. We also print the details of the number of parameters in each layer. For example, ()'lstm.weight_ih_l0', 80000) indicates that there are 100$\\times$200 parameters that connect the embeddings (dim=100) to the hidden layer (dim=200), and there are 3X additional parameters coressponding to the three gates in LSTM. Hence a total of 100$\\times$200$\\times$4=80,000 parameters. Likewise ('lstm.weight_hh_l0', 160000) indicates that there are 200$\\times$200 parameters that connect the previous hidden state (dim=200) to the hidden layer (dim=200), and there are 3X additional parameters coressponding to the three gates in LSTM. Hence a total of 200$\\times$200$\\times$4=160,000 parameters."
      ],
      "metadata": {
        "id": "a1Cy8O6pGeRB"
      }
    },
    {
      "cell_type": "code",
      "source": [
        "model = MyRNN()\n",
        "\n",
        "def count_parameters(model):\n",
        "    return sum(p.numel() for p in model.parameters() if p.requires_grad)\n",
        "\n",
        "print(f'The model has {count_parameters(model):,} trainable parameters')\n",
        "print(MyRNN())\n",
        "[(n, p.numel()) for n, p in MyRNN().named_parameters()]"
      ],
      "metadata": {
        "colab": {
          "base_uri": "https://localhost:8080/"
        },
        "id": "pmuwfpWdaBYc",
        "outputId": "f51561c7-fe98-4061-8b3b-91d28cabc9d1"
      },
      "execution_count": null,
      "outputs": [
        {
          "output_type": "stream",
          "name": "stdout",
          "text": [
            "The model has 362,001 trainable parameters\n",
            "MyRNN(\n",
            "  (embedding): Embedding(25000, 100)\n",
            "  (rnn): RNN(100, 200, num_layers=2, batch_first=True, bidirectional=True)\n",
            "  (fc): Linear(in_features=400, out_features=1, bias=True)\n",
            ")\n"
          ]
        },
        {
          "output_type": "execute_result",
          "data": {
            "text/plain": [
              "[('embedding.weight', 2500000),\n",
              " ('rnn.weight_ih_l0', 20000),\n",
              " ('rnn.weight_hh_l0', 40000),\n",
              " ('rnn.bias_ih_l0', 200),\n",
              " ('rnn.bias_hh_l0', 200),\n",
              " ('rnn.weight_ih_l0_reverse', 20000),\n",
              " ('rnn.weight_hh_l0_reverse', 40000),\n",
              " ('rnn.bias_ih_l0_reverse', 200),\n",
              " ('rnn.bias_hh_l0_reverse', 200),\n",
              " ('rnn.weight_ih_l1', 80000),\n",
              " ('rnn.weight_hh_l1', 40000),\n",
              " ('rnn.bias_ih_l1', 200),\n",
              " ('rnn.bias_hh_l1', 200),\n",
              " ('rnn.weight_ih_l1_reverse', 80000),\n",
              " ('rnn.weight_hh_l1_reverse', 40000),\n",
              " ('rnn.bias_ih_l1_reverse', 200),\n",
              " ('rnn.bias_hh_l1_reverse', 200),\n",
              " ('fc.weight', 400),\n",
              " ('fc.bias', 1)]"
            ]
          },
          "metadata": {},
          "execution_count": 21
        }
      ]
    },
    {
      "cell_type": "markdown",
      "source": [
        "## Train the Model"
      ],
      "metadata": {
        "id": "gOMTcBkYJLzH"
      }
    },
    {
      "cell_type": "markdown",
      "source": [
        "Now we'll set up the training and then train the model. First, we'll create an optimizer. This is the algorithm we use to update the parameters of the module. We will use `Adam` instead of `SGD` that we used in Assignment 1. SGD updates all parameters with the same learning rate and choosing this learning rate can be tricky. `Adam` adapts the learning rate for each parameter, giving parameters that are updated more frequently lower learning rates and parameters that are updated infrequently higher learning rates.\n"
      ],
      "metadata": {
        "id": "3dF7kk4cJNZd"
      }
    },
    {
      "cell_type": "code",
      "source": [
        "import torch.optim as optim\n",
        "optimizer = optim.Adam(model.parameters())"
      ],
      "metadata": {
        "id": "J2BWXCL9HdvH"
      },
      "execution_count": null,
      "outputs": []
    },
    {
      "cell_type": "markdown",
      "source": [
        "Next, we'll define our loss function. In PyTorch this is commonly called a criterion. \n",
        "\n",
        "The loss function here is _binary cross entropy with logits_. Our model currently outputs an unbound real number. As our labels are either 0 or 1, we want to restrict the predictions to a number between 0 and 1. We do this using the _sigmoid_. We then use this bound scalar to calculate the loss using binary cross entropy. \n",
        "\n",
        "The `BCEWithLogitsLoss` criterion carries out both the sigmoid and the binary cross entropy steps.\n",
        "\n",
        "Using `.to`, we can place the model and the criterion on the GPU (if we have one). "
      ],
      "metadata": {
        "id": "6-3D-fDMJw2S"
      }
    },
    {
      "cell_type": "code",
      "source": [
        "criterion = nn.BCEWithLogitsLoss()\n",
        "\n",
        "model.to(device)\n",
        "criterion = criterion.to(device)\n",
        "print(model)"
      ],
      "metadata": {
        "colab": {
          "base_uri": "https://localhost:8080/"
        },
        "id": "5cPsvn6DJytx",
        "outputId": "488e7c45-5f4a-4c44-fdfc-7b49a7bc6831"
      },
      "execution_count": null,
      "outputs": [
        {
          "output_type": "stream",
          "name": "stdout",
          "text": [
            "MyRNN(\n",
            "  (embedding): Embedding(25000, 100)\n",
            "  (rnn): RNN(100, 200, num_layers=2, batch_first=True, bidirectional=True)\n",
            "  (fc): Linear(in_features=400, out_features=1, bias=True)\n",
            ")\n"
          ]
        }
      ]
    },
    {
      "cell_type": "markdown",
      "source": [
        "Our criterion function calculates the loss, however we have to write our function to calculate the accuracy. \n",
        "\n",
        "This function first feeds the predictions through a sigmoid layer, squashing the values between 0 and 1, we then round them to the nearest integer. This rounds any value greater than 0.5 to 1 (a positive sentiment) and the rest to 0 (a negative sentiment).\n",
        "\n",
        "We then calculate how many rounded predictions equal the actual labels and average it across the batch."
      ],
      "metadata": {
        "id": "iTGRZrJ7J-Yu"
      }
    },
    {
      "cell_type": "code",
      "source": [
        "def binary_accuracy(preds, y):\n",
        "    rounded_preds = torch.round(torch.sigmoid(preds))\n",
        "    correct = (rounded_preds == y).float()  \n",
        "    acc = correct.sum() / len(correct)\n",
        "    return acc"
      ],
      "metadata": {
        "id": "MmaEBXFTw0Zg"
      },
      "execution_count": null,
      "outputs": []
    },
    {
      "cell_type": "markdown",
      "source": [
        "The `train` function iterates over all examples, one batch at a time. \n",
        "\n",
        "`model.train()` is used to put the model in \"training mode\", which turns on _dropout_ and _batch normalization_. Though we aren't using them in this model.\n",
        "\n",
        "For each batch, we first zero the gradients. Each parameter in a model has a `grad` attribute which stores the gradient calculated by the `criterion`. PyTorch does not automatically remove (or \"zero\") the gradients calculated from the last gradient calculation, so they must be manually zeroed.\n",
        "\n",
        "We then feed the batch of sentences, `inputs`, into the model. Note, you do not need to do `model.forward(inputs)`, simply calling the model works. The `squeeze` is needed as the predictions are initially size _[batch size, 1]_, and we need to remove the dimension of size 1 as PyTorch expects the predictions input to our criterion function to be of size _[batch size]_.\n",
        "\n",
        "The loss and accuracy are then calculated using our predictions and the labels, `labels`, with the loss being averaged over all examples in the batch."
      ],
      "metadata": {
        "id": "BZhT9loCKW1z"
      }
    },
    {
      "cell_type": "code",
      "source": [
        "def train(model, data_loader, optimizer, criterion):\n",
        "  epoch_loss = 0\n",
        "  epoch_acc = 0\n",
        "  model.train()\n",
        "\n",
        "  for inputs, labels in train_loader:\n",
        "      optimizer.zero_grad()\n",
        "      inputs, labels = inputs.to(device), labels.to(device, dtype=torch.float)   \n",
        "      predictions = model(inputs).squeeze(1)      \n",
        "      loss = criterion(predictions, labels)      \n",
        "      loss.backward()\n",
        "      optimizer.step()\n",
        "      acc = binary_accuracy(predictions, labels)\n",
        "      epoch_loss += loss.item()\n",
        "      epoch_acc += acc.item()\n",
        "      \n",
        "  return epoch_loss / len(data_loader), epoch_acc / len(data_loader)"
      ],
      "metadata": {
        "id": "hV3MX6Zgxoyp"
      },
      "execution_count": null,
      "outputs": []
    },
    {
      "cell_type": "markdown",
      "source": [
        "`evaluate` is similar to `train`, with a few modifications as you don't want to update the parameters when evaluating.\n",
        "\n",
        "`model.eval()` puts the model in \"evaluation mode\", this turns off _dropout_ and _batch normalization_. Though, we are not using them in this model.\n",
        "\n",
        "No gradients are calculated on PyTorch operations inside the `with no_grad()` block. This causes less memory to be used and speeds up computation.\n",
        "\n",
        "The rest of the function is the same as `train`, with the removal of `optimizer.zero_grad()`, `loss.backward()` and `optimizer.step()`, as we do not update the model's parameters when evaluating.\n"
      ],
      "metadata": {
        "id": "G6IjeopkLX-Q"
      }
    },
    {
      "cell_type": "code",
      "source": [
        "def evaluate(model, data_loader, criterion):\n",
        "    epoch_loss = 0\n",
        "    epoch_acc = 0\n",
        "    model.eval()\n",
        "    with torch.no_grad():\n",
        "        for inputs, labels in data_loader:\n",
        "            inputs, labels = inputs.to(device), labels.to(device, dtype=torch.float)\n",
        "            predictions = model(inputs).squeeze(1)\n",
        "            loss = criterion(predictions, labels)\n",
        "            acc = binary_accuracy(predictions, labels)\n",
        "            epoch_loss += loss.item()\n",
        "            epoch_acc += acc.item()\n",
        "    return epoch_loss / len(data_loader), epoch_acc / len(data_loader)"
      ],
      "metadata": {
        "id": "BvsNRB2a5BEe"
      },
      "execution_count": null,
      "outputs": []
    },
    {
      "cell_type": "markdown",
      "source": [
        "And also create a nice function to tell us how long our epochs are taking."
      ],
      "metadata": {
        "id": "d-j4S7AnLxn_"
      }
    },
    {
      "cell_type": "code",
      "source": [
        "import time\n",
        "\n",
        "def epoch_time(start_time, end_time):\n",
        "    elapsed_time = end_time - start_time\n",
        "    elapsed_mins = int(elapsed_time / 60)\n",
        "    elapsed_secs = int(elapsed_time - (elapsed_mins * 60))\n",
        "    return elapsed_mins, elapsed_secs"
      ],
      "metadata": {
        "id": "MN7jahSD4gXb"
      },
      "execution_count": null,
      "outputs": []
    },
    {
      "cell_type": "markdown",
      "source": [
        "Finally, we train our model...\n",
        "At each epoch, if the validation loss is the best we have seen so far, we'll save the parameters of the model and then after training has finished we'll use that model on the test set."
      ],
      "metadata": {
        "id": "ep8uPqbZL1j8"
      }
    },
    {
      "cell_type": "code",
      "source": [
        "N_EPOCHS = 5\n",
        "\n",
        "best_valid_loss = float('inf')\n",
        "\n",
        "for epoch in range(N_EPOCHS):\n",
        "\n",
        "    start_time = time.time()\n",
        "    \n",
        "    train_loss, train_acc = train(model, train_loader, optimizer, criterion)\n",
        "    valid_loss, valid_acc = evaluate(model, valid_loader, criterion)\n",
        "    \n",
        "    end_time = time.time()\n",
        "\n",
        "    epoch_mins, epoch_secs = epoch_time(start_time, end_time)\n",
        "    \n",
        "    if valid_loss < best_valid_loss:\n",
        "        best_valid_loss = valid_loss\n",
        "        torch.save(model.state_dict(), 'best-model.pt')\n",
        "    \n",
        "    print(f'Epoch: {epoch+1:02} | Epoch Time: {epoch_mins}m {epoch_secs}s')\n",
        "    print(f'\\tTrain Loss: {train_loss:.5f} | Train Acc: {train_acc*100:.2f}%')\n",
        "    print(f'\\t Val. Loss: {valid_loss:.5f} |  Val. Acc: {valid_acc*100:.2f}%')"
      ],
      "metadata": {
        "colab": {
          "base_uri": "https://localhost:8080/"
        },
        "id": "j-22tZ4XBHsY",
        "outputId": "144893c9-8148-4e88-933d-5f22c3388a34"
      },
      "execution_count": null,
      "outputs": [
        {
          "output_type": "stream",
          "name": "stdout",
          "text": [
            "Epoch: 01 | Epoch Time: 0m 20s\n",
            "\tTrain Loss: 0.65896 | Train Acc: 60.80%\n",
            "\t Val. Loss: 0.68068 |  Val. Acc: 56.42%\n",
            "Epoch: 02 | Epoch Time: 0m 19s\n",
            "\tTrain Loss: 0.67157 | Train Acc: 57.78%\n",
            "\t Val. Loss: 0.65067 |  Val. Acc: 61.63%\n",
            "Epoch: 03 | Epoch Time: 0m 19s\n",
            "\tTrain Loss: 0.66211 | Train Acc: 59.38%\n",
            "\t Val. Loss: 0.66532 |  Val. Acc: 57.89%\n",
            "Epoch: 04 | Epoch Time: 0m 19s\n",
            "\tTrain Loss: 0.65372 | Train Acc: 60.16%\n",
            "\t Val. Loss: 0.65718 |  Val. Acc: 58.75%\n",
            "Epoch: 05 | Epoch Time: 0m 20s\n",
            "\tTrain Loss: 0.63929 | Train Acc: 62.99%\n",
            "\t Val. Loss: 0.67392 |  Val. Acc: 58.99%\n"
          ]
        }
      ]
    },
    {
      "cell_type": "markdown",
      "source": [
        "Finally, the metric we actually care about, the test loss and accuracy, which we get from our parameters that gave us the best validation loss."
      ],
      "metadata": {
        "id": "65cNMkN-R6sz"
      }
    },
    {
      "cell_type": "code",
      "source": [
        "model.load_state_dict(torch.load('best-model.pt'))\n",
        "\n",
        "test_loss, test_acc = evaluate(model, test_loader, criterion)\n",
        "\n",
        "print(f'Test Loss: {test_loss:.3f} | Test Acc: {test_acc*100:.2f}%')"
      ],
      "metadata": {
        "id": "d1KK_FHVxo1k",
        "colab": {
          "base_uri": "https://localhost:8080/"
        },
        "outputId": "593b9a21-0c27-4b79-8a65-53c7df904c72"
      },
      "execution_count": null,
      "outputs": [
        {
          "output_type": "stream",
          "name": "stdout",
          "text": [
            "Test Loss: 0.651 | Test Acc: 60.99%\n"
          ]
        }
      ]
    },
    {
      "cell_type": "markdown",
      "source": [
        "## User Input\n",
        "\n",
        "We can now use our model to predict the sentiment of any sentence we give it.\n",
        "\n",
        "Our `predict_sentiment` function does a few things:\n",
        "- sets the model to evaluation mode\n",
        "- tokenizes the sentence, i.e. splits it from a raw string into a list of tokens\n",
        "- indexes the tokens by converting them into their integer representation from our vocabulary\n",
        "- converts the indexes, which are a Python list into a PyTorch tensor\n",
        "- add a batch dimension by `unsqueeze`ing \n",
        "- squashes the output prediction to a real number between 0 and 1 with the `sigmoid` function\n",
        "- converts the tensor holding a single value into an Python number with the `item()` method\n",
        "\n",
        "We are expecting reviews with a negative sentiment to return a value close to 0 and positive reviews to return a value close to 1."
      ],
      "metadata": {
        "id": "dYTqXJ21THYa"
      }
    },
    {
      "cell_type": "code",
      "source": [
        "def predict_sentiment(model, sentence):\n",
        "    model.eval()\n",
        "    #x_train.append([glove.stoi[preprocess_string(word)] for word in sent.lower().split()\n",
        "                                  #if preprocess_string(word) in glove.stoi])\n",
        "    input = [glove.stoi[preprocess_string(word)] for word in sentence.lower().split()\n",
        "                                  if preprocess_string(word) in glove.stoi]\n",
        "    tensor = torch.LongTensor(input).to(device)\n",
        "    tensor = tensor.unsqueeze(0)\n",
        "    logit = model(tensor)\n",
        "    prediction = torch.sigmoid(logit)\n",
        "    return prediction.item()"
      ],
      "metadata": {
        "id": "9-fXls1bK2lG"
      },
      "execution_count": null,
      "outputs": []
    },
    {
      "cell_type": "markdown",
      "source": [
        "An example negative review..."
      ],
      "metadata": {
        "id": "KG6uqJ5VYC18"
      }
    },
    {
      "cell_type": "code",
      "source": [
        "predict_sentiment(model, \"This film is terrible\")"
      ],
      "metadata": {
        "id": "bC2bk_ViK2n9",
        "colab": {
          "base_uri": "https://localhost:8080/"
        },
        "outputId": "31d587e9-3581-4efe-a0b6-9e9893a44fa2"
      },
      "execution_count": null,
      "outputs": [
        {
          "output_type": "execute_result",
          "data": {
            "text/plain": [
              "0.2471698373556137"
            ]
          },
          "metadata": {},
          "execution_count": 31
        }
      ]
    },
    {
      "cell_type": "markdown",
      "metadata": {
        "id": "rxmDk-g7J5RX"
      },
      "source": [
        "An example positive review..."
      ]
    },
    {
      "cell_type": "code",
      "metadata": {
        "id": "XqU0LCgMJ5RY",
        "colab": {
          "base_uri": "https://localhost:8080/"
        },
        "outputId": "34d85758-4d70-4f47-c7e7-cb5cc86f45d5"
      },
      "source": [
        "predict_sentiment(model, \"This film is great\")"
      ],
      "execution_count": null,
      "outputs": [
        {
          "output_type": "execute_result",
          "data": {
            "text/plain": [
              "0.6695504188537598"
            ]
          },
          "metadata": {},
          "execution_count": 32
        }
      ]
    }
  ]
}