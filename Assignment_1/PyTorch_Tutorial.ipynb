{
 "cells": [
  {
   "cell_type": "markdown",
   "metadata": {
    "id": "XQgwzTa26v3F"
   },
   "source": [
    "# **PyTorch tutorial**"
   ]
  },
  {
   "cell_type": "code",
   "execution_count": 1,
   "metadata": {
    "id": "mbalT7vDnbIc"
   },
   "outputs": [],
   "source": [
    "from __future__ import print_function\n",
    "import pickle as pkl\n",
    "import torch \n",
    "import numpy as np\n",
    "import argparse\n",
    "import torch\n",
    "import torch.nn as nn\n",
    "import torch.nn.functional as F\n",
    "import torch.optim as optim\n",
    "from torchvision import datasets, transforms\n",
    "from torch.autograd import Variable"
   ]
  },
  {
   "cell_type": "markdown",
   "metadata": {
    "id": "7c7-Ec0eq290"
   },
   "source": [
    "# Tensors\n",
    "\n",
    "* Its like a numpy ndarray \n",
    "* Doesn't know anything about deep learning or computational graphs or gradients\n",
    "* **Also runs runs on GPU !**\n",
    "* Can convert back and forth from the numpy array "
   ]
  },
  {
   "cell_type": "code",
   "execution_count": 2,
   "metadata": {
    "id": "YJHGlwfDnpS-"
   },
   "outputs": [
    {
     "name": "stdout",
     "output_type": "stream",
     "text": [
      "tensor([[0., 0., 0., 0.],\n",
      "        [0., 0., 0., 0.],\n",
      "        [0., 0., 0., 0.]])\n"
     ]
    }
   ],
   "source": [
    "x = torch.Tensor(3, 4)\n",
    "print(x)"
   ]
  },
  {
   "cell_type": "markdown",
   "metadata": {
    "id": "nFBBsfdQqdtK"
   },
   "source": [
    "What just happened? There's a nan.... \n",
    "\n",
    "We just declared an uninitialized tensor. The data inside is garbage, it is just random stuff that was in the memory."
   ]
  },
  {
   "cell_type": "code",
   "execution_count": 3,
   "metadata": {
    "id": "SXdYHKdjpoUq"
   },
   "outputs": [
    {
     "data": {
      "text/plain": [
       "torch.Size([3, 4])"
      ]
     },
     "execution_count": 3,
     "metadata": {},
     "output_type": "execute_result"
    }
   ],
   "source": [
    "#View the shape of a tensor\n",
    "x.size()"
   ]
  },
  {
   "cell_type": "code",
   "execution_count": 4,
   "metadata": {
    "id": "8vjtIpFTqHJG"
   },
   "outputs": [
    {
     "name": "stdout",
     "output_type": "stream",
     "text": [
      "tensor([[0.6358, 0.5989, 0.7771],\n",
      "        [0.0673, 0.3642, 0.4303]])\n"
     ]
    }
   ],
   "source": [
    "#Declaring a random tensor of shape (2,3)\n",
    "x = torch.rand(2, 3)\n",
    "print(x)"
   ]
  },
  {
   "cell_type": "code",
   "execution_count": 5,
   "metadata": {
    "id": "W1If6NemM5FO"
   },
   "outputs": [
    {
     "data": {
      "text/plain": [
       "tensor([[0.1000, 0.2000, 0.3000],\n",
       "        [0.4000, 0.5000, 0.6000]])"
      ]
     },
     "execution_count": 5,
     "metadata": {},
     "output_type": "execute_result"
    }
   ],
   "source": [
    "#Declaring a custom tensor\n",
    "#What's inside can be any python list or numpy array\n",
    "\n",
    "x = torch.Tensor(\n",
    "    [\n",
    "        [0.1, 0.2, 0.3],\n",
    "        [0.4, 0.5, 0.6]\n",
    "    ]\n",
    ")\n",
    "x"
   ]
  },
  {
   "cell_type": "code",
   "execution_count": 6,
   "metadata": {
    "id": "AGpPZj5cNM58"
   },
   "outputs": [
    {
     "name": "stdout",
     "output_type": "stream",
     "text": [
      "tensor([[0., 0., 0.],\n",
      "        [0., 0., 0.]])\n",
      "\n",
      "tensor([[1., 1., 1.],\n",
      "        [1., 1., 1.]])\n"
     ]
    }
   ],
   "source": [
    "#Declaring an empty tensor and a tensor filled with 1s\n",
    "zeros = torch.zeros(2,3)\n",
    "print(zeros)\n",
    "\n",
    "print()\n",
    "\n",
    "ones = torch.ones(2,3)\n",
    "print(ones)"
   ]
  },
  {
   "cell_type": "code",
   "execution_count": 7,
   "metadata": {
    "id": "d-IjC5S7N8TM"
   },
   "outputs": [
    {
     "name": "stdout",
     "output_type": "stream",
     "text": [
      "tensor([[0.1000, 0.2000, 0.3000],\n",
      "        [0.4000, 0.5000, 0.6000]])\n",
      "tensor([[ 0.1000,  0.2000,  0.3000],\n",
      "        [ 0.4000, 24.0000,  0.6000]])\n"
     ]
    }
   ],
   "source": [
    "#Changing elements of tensor\n",
    "print(x)\n",
    "\n",
    "x[1][1] = 24\n",
    "\n",
    "print(x)"
   ]
  },
  {
   "cell_type": "code",
   "execution_count": 8,
   "metadata": {
    "id": "0_6N1gFaO6AZ"
   },
   "outputs": [
    {
     "name": "stdout",
     "output_type": "stream",
     "text": [
      "tensor([[ 0.1000,  0.2000,  0.3000],\n",
      "        [ 0.4000, 24.0000,  0.6000]])\n",
      "tensor([ 0.2000, 24.0000])\n"
     ]
    }
   ],
   "source": [
    "#Numpy indexing\n",
    "#if we only want the second column\n",
    "print(x)\n",
    "\n",
    "print(x[:, 1])"
   ]
  },
  {
   "cell_type": "code",
   "execution_count": 9,
   "metadata": {
    "id": "mgMUwfRnQbfn"
   },
   "outputs": [
    {
     "name": "stdout",
     "output_type": "stream",
     "text": [
      "tensor([[ 0.1000,  0.2000,  0.3000],\n",
      "        [ 0.4000, 24.0000,  0.6000]])\n",
      "\n",
      "tensor([[ 0.1000,  0.2000],\n",
      "        [ 0.3000,  0.4000],\n",
      "        [24.0000,  0.6000]])\n",
      "\n",
      "tensor([[ 0.1000,  0.2000],\n",
      "        [ 0.3000,  0.4000],\n",
      "        [24.0000,  0.6000]])\n",
      "\n"
     ]
    }
   ],
   "source": [
    "#Reshaping\n",
    "print(x)\n",
    "print()\n",
    "print(x.view(3,2))\n",
    "print()\n",
    "\n",
    "print(x.view(3,-1))\n",
    "print()\n",
    "#Give me 3 rows, you figure out the appropriate number of colomns. \n",
    "#Only one of the axis value can be -1 "
   ]
  },
  {
   "cell_type": "markdown",
   "metadata": {
    "id": "wKj-s0EtrKAr"
   },
   "source": [
    "### Tensors support most numpy operations like broadcasting, arithmetic, reshaping, indexing, etc.\n"
   ]
  },
  {
   "cell_type": "code",
   "execution_count": 10,
   "metadata": {
    "id": "H1ELeyq-PeWY"
   },
   "outputs": [
    {
     "name": "stdout",
     "output_type": "stream",
     "text": [
      "x :\n",
      "tensor([[1., 2., 3.],\n",
      "        [4., 5., 6.]])\n",
      "\n",
      "y :\n",
      "tensor([[2., 2., 2.],\n",
      "        [2., 2., 2.]])\n"
     ]
    }
   ],
   "source": [
    "x = torch.Tensor(\n",
    "    [\n",
    "        [1, 2, 3],\n",
    "        [4, 5, 6]\n",
    "    ]\n",
    ")\n",
    "\n",
    "y = torch.Tensor([[2]*3]*2)\n",
    "\n",
    "print(f\"x :\\n{x}\\n\")\n",
    "print(f\"y :\\n{y}\")"
   ]
  },
  {
   "cell_type": "code",
   "execution_count": 11,
   "metadata": {
    "id": "S4QdcusOqL4o"
   },
   "outputs": [
    {
     "data": {
      "text/plain": [
       "tensor([[3., 4., 5.],\n",
       "        [6., 7., 8.]])"
      ]
     },
     "execution_count": 11,
     "metadata": {},
     "output_type": "execute_result"
    }
   ],
   "source": [
    "x + y"
   ]
  },
  {
   "cell_type": "code",
   "execution_count": 12,
   "metadata": {
    "id": "mWXmQW7IOgPq"
   },
   "outputs": [
    {
     "data": {
      "text/plain": [
       "tensor([[ 2.,  4.,  6.],\n",
       "        [ 8., 10., 12.]])"
      ]
     },
     "execution_count": 12,
     "metadata": {},
     "output_type": "execute_result"
    }
   ],
   "source": [
    "x * y"
   ]
  },
  {
   "cell_type": "code",
   "execution_count": 13,
   "metadata": {
    "id": "mLfrY93QOl1e"
   },
   "outputs": [
    {
     "data": {
      "text/plain": [
       "tensor([[ 2.,  4.,  6.],\n",
       "        [ 8., 10., 12.]])"
      ]
     },
     "execution_count": 13,
     "metadata": {},
     "output_type": "execute_result"
    }
   ],
   "source": [
    "x * 2"
   ]
  },
  {
   "cell_type": "code",
   "execution_count": 14,
   "metadata": {
    "id": "6yuFwACUOl8v"
   },
   "outputs": [
    {
     "name": "stdout",
     "output_type": "stream",
     "text": [
      "x :\n",
      "tensor([[1., 2., 3.],\n",
      "        [4., 5., 6.]])\n",
      "\n",
      "z :\n",
      "tensor([[3.],\n",
      "        [4.]])\n",
      "\n",
      "x * z :\n",
      "tensor([[ 3.,  6.,  9.],\n",
      "        [16., 20., 24.]])\n",
      "\n"
     ]
    }
   ],
   "source": [
    "#Broadcasting\n",
    "print(f\"x :\\n{x}\\n\")\n",
    "\n",
    "\n",
    "z = torch.tensor([3.0 ,4.0]).view(-1,1)\n",
    "print(f\"z :\\n{z}\\n\")\n",
    "\n",
    "print(f\"x * z :\\n{x * z}\\n\")"
   ]
  },
  {
   "cell_type": "code",
   "execution_count": 15,
   "metadata": {
    "id": "X8DO-gKBrJWX"
   },
   "outputs": [
    {
     "name": "stdout",
     "output_type": "stream",
     "text": [
      "tensor([[1., 2., 3.],\n",
      "        [4., 5., 6.]], device='cuda:0')\n",
      "tensor([[1., 2., 3.],\n",
      "        [4., 5., 6.]])\n"
     ]
    }
   ],
   "source": [
    "# move tensor to GPU using\n",
    "x = x.cuda()\n",
    "print(x)\n",
    "\n",
    "\n",
    "# move back to CPU\n",
    "x = x.cpu()\n",
    "print(x)"
   ]
  },
  {
   "cell_type": "markdown",
   "metadata": {
    "id": "Efm6yU8uRxyk"
   },
   "source": [
    "###Other Basic operations can be found here: https://jhui.github.io/2018/02/09/PyTorch-Basic-operations/"
   ]
  },
  {
   "cell_type": "markdown",
   "metadata": {
    "id": "52x8xJYxQyDa"
   },
   "source": [
    "###Autograd\n",
    "\n",
    "Tensors can be initialized with an extra argument which lets them use autograd.\n",
    "\n",
    "Autograd tracks the gradients for each computation of a tensor.\n",
    "\n",
    "Some older PyTorch tutorials will use Variable to wrap a tensor to use autograd."
   ]
  },
  {
   "cell_type": "code",
   "execution_count": 16,
   "metadata": {
    "id": "BULflfvqrLz9"
   },
   "outputs": [
    {
     "data": {
      "text/plain": [
       "tensor([2.], requires_grad=True)"
      ]
     },
     "execution_count": 16,
     "metadata": {},
     "output_type": "execute_result"
    }
   ],
   "source": [
    "x = torch.tensor([2.0], requires_grad=True)\n",
    "x\n"
   ]
  },
  {
   "cell_type": "code",
   "execution_count": 17,
   "metadata": {
    "id": "yDN-ru_GKbxT"
   },
   "outputs": [
    {
     "data": {
      "text/plain": [
       "tensor([8.], grad_fn=<PowBackward0>)"
      ]
     },
     "execution_count": 17,
     "metadata": {},
     "output_type": "execute_result"
    }
   ],
   "source": [
    "# x^3 = 9\n",
    "output = x.pow(3)\n",
    "output"
   ]
  },
  {
   "cell_type": "code",
   "execution_count": 18,
   "metadata": {
    "id": "GDJKfnhzLkJw"
   },
   "outputs": [],
   "source": [
    "#Calling backward computes the derivative of whatever was calculated\n",
    "output.backward()"
   ]
  },
  {
   "cell_type": "code",
   "execution_count": 19,
   "metadata": {
    "id": "iCYYAM_ILmO7"
   },
   "outputs": [
    {
     "data": {
      "text/plain": [
       "tensor([12.])"
      ]
     },
     "execution_count": 19,
     "metadata": {},
     "output_type": "execute_result"
    }
   ],
   "source": [
    "#We can call tensor.grad to see the computed gradient.\n",
    "#Example here, d/dx (x^3) = 3x^2, which is 3 * 2^2 = 12\n",
    "x.grad"
   ]
  },
  {
   "cell_type": "code",
   "execution_count": 20,
   "metadata": {
    "id": "5GLROXKhLnLn"
   },
   "outputs": [
    {
     "ename": "RuntimeError",
     "evalue": "Only Tensors of floating point and complex dtype can require gradients",
     "output_type": "error",
     "traceback": [
      "\u001b[1;31m---------------------------------------------------------------------------\u001b[0m",
      "\u001b[1;31mRuntimeError\u001b[0m                              Traceback (most recent call last)",
      "\u001b[1;32m<ipython-input-20-aa6776c6988e>\u001b[0m in \u001b[0;36m<module>\u001b[1;34m\u001b[0m\n\u001b[0;32m      1\u001b[0m \u001b[1;31m#Only Floating point tensors can use autograd\u001b[0m\u001b[1;33m\u001b[0m\u001b[1;33m\u001b[0m\u001b[1;33m\u001b[0m\u001b[0m\n\u001b[1;32m----> 2\u001b[1;33m x = torch.tensor(\n\u001b[0m\u001b[0;32m      3\u001b[0m     [\n\u001b[0;32m      4\u001b[0m         \u001b[1;33m[\u001b[0m\u001b[1;36m1\u001b[0m\u001b[1;33m,\u001b[0m\u001b[1;36m2\u001b[0m\u001b[1;33m,\u001b[0m\u001b[1;36m3\u001b[0m\u001b[1;33m]\u001b[0m\u001b[1;33m,\u001b[0m\u001b[1;33m\u001b[0m\u001b[1;33m\u001b[0m\u001b[0m\n\u001b[0;32m      5\u001b[0m         \u001b[1;33m[\u001b[0m\u001b[1;36m4\u001b[0m\u001b[1;33m,\u001b[0m\u001b[1;36m5\u001b[0m\u001b[1;33m,\u001b[0m\u001b[1;36m6\u001b[0m\u001b[1;33m]\u001b[0m\u001b[1;33m\u001b[0m\u001b[1;33m\u001b[0m\u001b[0m\n",
      "\u001b[1;31mRuntimeError\u001b[0m: Only Tensors of floating point and complex dtype can require gradients"
     ]
    }
   ],
   "source": [
    "#Only Floating point tensors can use autograd\n",
    "x = torch.tensor(\n",
    "    [\n",
    "        [1,2,3],\n",
    "        [4,5,6]\n",
    "    ]\n",
    ",requires_grad = True\n",
    ")\n",
    "\n",
    "x + 3"
   ]
  },
  {
   "cell_type": "markdown",
   "metadata": {
    "id": "iLtvOAKuTtMC"
   },
   "source": [
    "### More elaborate example of gradient tracking"
   ]
  },
  {
   "cell_type": "code",
   "execution_count": null,
   "metadata": {
    "id": "dh-QQNIJSO-U"
   },
   "outputs": [],
   "source": [
    "#We declare two tensors, a and b\n",
    "a = torch.tensor(\n",
    "    [\n",
    "        [1.0, 1.0, 1.0],\n",
    "        [1.0, 1.0, 1.0]\n",
    "    ]\n",
    ",requires_grad = True\n",
    ")\n",
    "a"
   ]
  },
  {
   "cell_type": "code",
   "execution_count": null,
   "metadata": {
    "id": "GYOy04ftq2E_"
   },
   "outputs": [],
   "source": [
    "b = torch.tensor(\n",
    "    [\n",
    "        [2.0, 2.0],\n",
    "        [2.0, 2.0],\n",
    "        [2.0, 2.0]\n",
    "    ]\n",
    ",requires_grad = True\n",
    ")\n",
    "b"
   ]
  },
  {
   "cell_type": "code",
   "execution_count": null,
   "metadata": {
    "id": "cszJcyCfviLB"
   },
   "outputs": [],
   "source": [
    "# We perform a matrix multiplication of a and b\n",
    "c = a.matmul(b)\n",
    "c"
   ]
  },
  {
   "cell_type": "code",
   "execution_count": null,
   "metadata": {
    "id": "wSNR58WTTWcV"
   },
   "outputs": [],
   "source": [
    "#We then multiply again, and perform a broadcast addition\n",
    "d = (c.pow(2) + 5)\n",
    "d"
   ]
  },
  {
   "cell_type": "code",
   "execution_count": null,
   "metadata": {
    "id": "5iFOtfLcSmnz"
   },
   "outputs": [],
   "source": [
    "# Take a mean\n",
    "e = d.mean()\n",
    "e"
   ]
  },
  {
   "cell_type": "code",
   "execution_count": null,
   "metadata": {
    "id": "-P_vz6xUSrLc"
   },
   "outputs": [],
   "source": [
    "#Compute gradients\n",
    "e.backward()"
   ]
  },
  {
   "cell_type": "code",
   "execution_count": null,
   "metadata": {
    "id": "b5hj6PBqT2d2"
   },
   "outputs": [],
   "source": [
    "print(a.grad)\n",
    "print(b.grad)\n",
    "#print(d.grad)\n",
    "#print(c.grad)"
   ]
  },
  {
   "cell_type": "markdown",
   "metadata": {
    "id": "s0ikUexfU_oG"
   },
   "source": [
    "### Gradients are accumulated!"
   ]
  },
  {
   "cell_type": "code",
   "execution_count": 21,
   "metadata": {
    "id": "-CJQgzs-VaGG"
   },
   "outputs": [
    {
     "name": "stdout",
     "output_type": "stream",
     "text": [
      "a : tensor([[1.]], requires_grad=True)\n",
      "b : tensor([[1.]], grad_fn=<PowBackward0>)\n",
      "c : tensor([[1.]], grad_fn=<PowBackward0>)\n"
     ]
    }
   ],
   "source": [
    "a = torch.eye(1, requires_grad=True)\n",
    "\n",
    "b = a**2\n",
    "c = a**3\n",
    "\n",
    "print(f\"a : {a}\")\n",
    "print(f\"b : {b}\")\n",
    "print(f\"c : {c}\")"
   ]
  },
  {
   "cell_type": "code",
   "execution_count": 22,
   "metadata": {
    "id": "gPPPwoINVxOl"
   },
   "outputs": [
    {
     "data": {
      "text/plain": [
       "tensor([[2.]])"
      ]
     },
     "execution_count": 22,
     "metadata": {},
     "output_type": "execute_result"
    }
   ],
   "source": [
    "# Compute gradient after b, we get d/dx x^2 = 2x = 2\n",
    "b.backward()\n",
    "a.grad"
   ]
  },
  {
   "cell_type": "code",
   "execution_count": 23,
   "metadata": {
    "id": "1eyERhqDVxcV"
   },
   "outputs": [
    {
     "data": {
      "text/plain": [
       "tensor([[5.]])"
      ]
     },
     "execution_count": 23,
     "metadata": {},
     "output_type": "execute_result"
    }
   ],
   "source": [
    "# Compute gradient after c, we get d/dx x^3 = 3x^2 = 3\n",
    "# a's gradient term will not be 3, because gradient accumulates. 2 + 3 = 5\n",
    "c.backward()\n",
    "a.grad"
   ]
  },
  {
   "cell_type": "markdown",
   "metadata": {
    "id": "jBptCmbPVd1T"
   },
   "source": [
    "# Dynamic Computation Graphs\n",
    "\n",
    "* PyTorch maintains a graph that records all of the operations performed on variables as you execute your operations.\n",
    "* This results in a directed acyclic graph whose leaves are the input variables and roots are the output variables. \n",
    "* By tracing this graph from roots to leaves, you can automatically compute the gradients using the chain rule.\n",
    "\n",
    "![alt text](https://media.giphy.com/media/28g130aXBImNlG3dhG/giphy.gif)\n",
    "\n",
    "\n",
    "## Modules\n",
    "\n",
    "* Differentiable objects; may store state or learnable weights\n",
    "* Can define a new module; it inputs and outputs Tensors and corresponding input and output functions\n",
    "\n",
    "\n",
    "### torch.nn\n",
    "\n",
    "Neural networks can be constructed using the **torch.nn** package. \n",
    "\n",
    "* Linear layers - nn.Linear, nn.Bilinear\n",
    "* Convolution Layers - nn.Conv1d, nn.Conv2d, nn.Conv3d, nn.ConvTranspose2d\n",
    "* Nonlinearities - nn.Sigmoid, nn.Tanh, nn.ReLU, nn.LeakyReLU\n",
    "* Pooling Layers - nn.MaxPool1d, nn.AveragePool2d\n",
    "* Recurrent Networks - nn.LSTM, nn.GRU\n",
    "* Normalization - nn.BatchNorm2d\n",
    "* Dropout - nn.Dropout, nn.Dropout2d\n",
    "* Embedding - nn.Embedding\n",
    "* Loss Functions - nn.MSELoss, nn.CrossEntropyLoss, nn.NLLLoss\n"
   ]
  },
  {
   "cell_type": "code",
   "execution_count": 24,
   "metadata": {
    "id": "X7sDF7eZVgCY"
   },
   "outputs": [],
   "source": [
    "class TwoLayerNet(torch.nn.Module):\n",
    "    def __init__(self, D_in, H, D_out):\n",
    "        \"\"\"\n",
    "        In the constructor we instantiate two nn.Linear modules and assign them as\n",
    "        member variables.\n",
    "        \n",
    "        Args:\n",
    "            - D_in : input dimension of the data\n",
    "            - H : size of the first hidden layer\n",
    "            - D_out : size of the output/ second layer\n",
    "        \"\"\"\n",
    "        super(TwoLayerNet, self).__init__() # intialize recursively \n",
    "        self.linear1 = torch.nn.Linear(D_in, H) # create a linear layer \n",
    "        self.linear2 = torch.nn.Linear(H, D_out) \n",
    "\n",
    "    def forward(self, x):\n",
    "        \"\"\"\n",
    "        In the forward function we accept a Tensor of input data and\n",
    "        return a tensor of output data. We can use \n",
    "        Modules defined in the constructor as well as arbitrary \n",
    "        operators on Variables.\n",
    "        \"\"\"\n",
    "        h_relu = self.linear1(x)\n",
    "        y_pred = self.linear2(h_relu)\n",
    "        return y_pred\n",
    "    "
   ]
  },
  {
   "cell_type": "code",
   "execution_count": 25,
   "metadata": {
    "id": "646n1JNbV2N2"
   },
   "outputs": [],
   "source": [
    "# N is batch size; D_in is input dimension;\n",
    "# H is hidden dimension; D_out is output dimension.\n",
    "\n",
    "N, D_in, H, D_out = 64, 1000, 100, 10"
   ]
  },
  {
   "cell_type": "code",
   "execution_count": 26,
   "metadata": {
    "id": "EiPaaHrmV4WM"
   },
   "outputs": [],
   "source": [
    "# Create random Tensors to hold inputs and outputs\n",
    "\n",
    "x = torch.randn(N, D_in)\n",
    "y = torch.randn(N, D_out, requires_grad=False)\n"
   ]
  },
  {
   "cell_type": "code",
   "execution_count": 27,
   "metadata": {
    "id": "y3I9PS0bWB4H"
   },
   "outputs": [],
   "source": [
    "# Construct our model by instantiating the class defined above\n",
    "\n",
    "model = TwoLayerNet(D_in, H, D_out)\n"
   ]
  },
  {
   "cell_type": "markdown",
   "metadata": {
    "id": "u_MvupktWI9v"
   },
   "source": [
    "### Construct our loss function and an Optimizer. \n",
    "\n",
    "The call to **model.parameters()** in the SGD constructor will contain the learnable parameters of the two nn.Linear modules which are part of the model."
   ]
  },
  {
   "cell_type": "code",
   "execution_count": 28,
   "metadata": {
    "id": "EEMxmtdfWF4b"
   },
   "outputs": [],
   "source": [
    "# loss function\n",
    "criterion = torch.nn.MSELoss(reduction='sum')\n",
    "\n",
    "# optimizer \n",
    "optimizer = torch.optim.SGD(model.parameters(), lr=1e-4)"
   ]
  },
  {
   "cell_type": "code",
   "execution_count": 29,
   "metadata": {
    "id": "DwMgX35RWLs3"
   },
   "outputs": [
    {
     "name": "stdout",
     "output_type": "stream",
     "text": [
      "Epoch : 0    Loss : 705.1826782226562\n",
      "Epoch : 1    Loss : 602.975341796875\n",
      "Epoch : 2    Loss : 518.596435546875\n",
      "Epoch : 3    Loss : 447.64068603515625\n",
      "Epoch : 4    Loss : 387.1727294921875\n",
      "Epoch : 5    Loss : 335.1552429199219\n",
      "Epoch : 6    Loss : 290.1211853027344\n",
      "Epoch : 7    Loss : 250.97625732421875\n",
      "Epoch : 8    Loss : 216.8766632080078\n",
      "Epoch : 9    Loss : 187.1503143310547\n",
      "Epoch : 10    Loss : 161.245849609375\n",
      "Epoch : 11    Loss : 138.69873046875\n",
      "Epoch : 12    Loss : 119.1087646484375\n",
      "Epoch : 13    Loss : 102.12528991699219\n",
      "Epoch : 14    Loss : 87.4371109008789\n",
      "Epoch : 15    Loss : 74.7660903930664\n",
      "Epoch : 16    Loss : 63.862674713134766\n",
      "Epoch : 17    Loss : 54.50291061401367\n",
      "Epoch : 18    Loss : 46.48621368408203\n",
      "Epoch : 19    Loss : 39.633644104003906\n",
      "Epoch : 20    Loss : 33.78636169433594\n",
      "Epoch : 21    Loss : 28.80411720275879\n",
      "Epoch : 22    Loss : 24.563812255859375\n",
      "Epoch : 23    Loss : 20.958003997802734\n",
      "Epoch : 24    Loss : 17.89341926574707\n",
      "Epoch : 25    Loss : 15.289509773254395\n",
      "Epoch : 26    Loss : 13.077011108398438\n",
      "Epoch : 27    Loss : 11.196622848510742\n",
      "Epoch : 28    Loss : 9.597736358642578\n",
      "Epoch : 29    Loss : 8.237309455871582\n",
      "Epoch : 30    Loss : 7.078810691833496\n",
      "Epoch : 31    Loss : 6.091297149658203\n",
      "Epoch : 32    Loss : 5.248601913452148\n",
      "Epoch : 33    Loss : 4.528626441955566\n",
      "Epoch : 34    Loss : 3.9127063751220703\n",
      "Epoch : 35    Loss : 3.385105609893799\n",
      "Epoch : 36    Loss : 2.932528495788574\n",
      "Epoch : 37    Loss : 2.5437629222869873\n",
      "Epoch : 38    Loss : 2.2093424797058105\n",
      "Epoch : 39    Loss : 1.9212578535079956\n",
      "Epoch : 40    Loss : 1.6727416515350342\n",
      "Epoch : 41    Loss : 1.458061933517456\n",
      "Epoch : 42    Loss : 1.2723580598831177\n",
      "Epoch : 43    Loss : 1.1115047931671143\n",
      "Epoch : 44    Loss : 0.9719945788383484\n",
      "Epoch : 45    Loss : 0.8508451581001282\n",
      "Epoch : 46    Loss : 0.7455105185508728\n",
      "Epoch : 47    Loss : 0.6538171768188477\n",
      "Epoch : 48    Loss : 0.5739080905914307\n",
      "Epoch : 49    Loss : 0.5041927099227905\n"
     ]
    }
   ],
   "source": [
    "losses = []\n",
    "\n",
    "for epoch in range(50):\n",
    "    # Forward pass: Compute predicted y by passing x to the model\n",
    "    y_pred = model(x)\n",
    "\n",
    "    # Compute and print loss\n",
    "    loss = criterion(y_pred, y)\n",
    "    losses.append(loss.data.item())\n",
    "    print(f\"Epoch : {epoch}    Loss : {loss.data.item()}\")\n",
    "\n",
    "    # Reset gradients to zero, perform a backward pass, and update the weights.\n",
    "    optimizer.zero_grad()\n",
    "    loss.backward()\n",
    "    optimizer.step()"
   ]
  },
  {
   "cell_type": "code",
   "execution_count": 30,
   "metadata": {
    "id": "YWL2EbtsWTRZ"
   },
   "outputs": [
    {
     "data": {
      "text/plain": [
       "[<matplotlib.lines.Line2D at 0x21c9b178ac0>]"
      ]
     },
     "execution_count": 30,
     "metadata": {},
     "output_type": "execute_result"
    },
    {
     "data": {
      "image/png": "[encoded data removed]",
      "text/plain": [
       "<Figure size 432x288 with 1 Axes>"
      ]
     },
     "metadata": {
      "needs_background": "light"
     },
     "output_type": "display_data"
    }
   ],
   "source": [
    "import matplotlib.pyplot as plt\n",
    "plt.title('Loss over time')\n",
    "plt.xlabel('Epoch')\n",
    "plt.ylabel('Loss')\n",
    "plt.plot(losses)"
   ]
  },
  {
   "cell_type": "code",
   "execution_count": null,
   "metadata": {
    "id": "KgRMadtuXkXp"
   },
   "outputs": [],
   "source": []
  }
 ],
 "metadata": {
  "accelerator": "GPU",
  "colab": {
   "collapsed_sections": [
    "Efm6yU8uRxyk"
   ],
   "provenance": []
  },
  "kernelspec": {
   "display_name": "Python 3",
   "language": "python",
   "name": "python3"
  },
  "language_info": {
   "codemirror_mode": {
    "name": "ipython",
    "version": 3
   },
   "file_extension": ".py",
   "mimetype": "text/x-python",
   "name": "python",
   "nbconvert_exporter": "python",
   "pygments_lexer": "ipython3",
   "version": "3.8.5"
  }
 },
 "nbformat": 4,
 "nbformat_minor": 1
}
