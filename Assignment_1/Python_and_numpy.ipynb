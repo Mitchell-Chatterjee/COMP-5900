{
 "cells": [
  {
   "cell_type": "markdown",
   "metadata": {
    "id": "LceGzw6xdvKw"
   },
   "source": [
    "Basic stuff"
   ]
  },
  {
   "cell_type": "code",
   "execution_count": 1,
   "metadata": {
    "id": "J14ghMlCcZLT"
   },
   "outputs": [
    {
     "name": "stdout",
     "output_type": "stream",
     "text": [
      "1.5\n",
      "1\n"
     ]
    }
   ],
   "source": [
    "a = 3\n",
    "b = 2\n",
    "print(a/b)\n",
    "print(a//b)"
   ]
  },
  {
   "cell_type": "markdown",
   "metadata": {
    "id": "kfA-YNjReBdo"
   },
   "source": [
    "Data types"
   ]
  },
  {
   "cell_type": "code",
   "execution_count": 2,
   "metadata": {
    "id": "Cjp6WvxTeElM"
   },
   "outputs": [
    {
     "name": "stdout",
     "output_type": "stream",
     "text": [
      "<class 'int'>\n",
      "<class 'float'>\n",
      "<class 'str'>\n",
      "<class 'tuple'>\n",
      "<class 'list'>\n",
      "3.1415625\n"
     ]
    }
   ],
   "source": [
    "a = 4\n",
    "b = 3.1415625\n",
    "c = \"this is a string\"\n",
    "d = (1, 2, 3)\n",
    "e = [1, 2, d]\n",
    "\n",
    "print(type(a))\n",
    "print(type(b))\n",
    "print(type(c))\n",
    "print(type(d))\n",
    "print(type(e))\n",
    "\n",
    "print(str(b))"
   ]
  },
  {
   "cell_type": "markdown",
   "metadata": {
    "id": "nHJmY-aUenW1"
   },
   "source": [
    "Pecular behavior of some of the data types"
   ]
  },
  {
   "cell_type": "code",
   "execution_count": 3,
   "metadata": {
    "id": "LrFYvS2WewAS"
   },
   "outputs": [
    {
     "name": "stdout",
     "output_type": "stream",
     "text": [
      "<class 'float'>\n"
     ]
    }
   ],
   "source": [
    "a = 4\n",
    "b = 3.1415625\n",
    "\n",
    "print(type(a+b))"
   ]
  },
  {
   "cell_type": "code",
   "execution_count": 4,
   "metadata": {
    "id": "NQcDTAp3e8hz"
   },
   "outputs": [
    {
     "name": "stdout",
     "output_type": "stream",
     "text": [
      "0.3\n",
      "0.30000000000000004\n",
      "False\n"
     ]
    }
   ],
   "source": [
    "a = 0.3\n",
    "b = 0.1+0.1+0.1\n",
    "\n",
    "print(a)\n",
    "print(b)\n",
    "print(a==b)"
   ]
  },
  {
   "cell_type": "markdown",
   "metadata": {
    "id": "tpqgOXMKfMvc"
   },
   "source": [
    "Even more pecular behavior. Remember that some data types are mutable"
   ]
  },
  {
   "cell_type": "code",
   "execution_count": 5,
   "metadata": {
    "id": "GDPvwe2de9kN"
   },
   "outputs": [
    {
     "name": "stdout",
     "output_type": "stream",
     "text": [
      "[1, 2, 3]\n",
      "[1, 2, 3]\n",
      "[6, 2, 3]\n",
      "[1, 2, 3]\n",
      "[[4, 2, 3], [4, 2, 3], [4, 2, 3], 'hello']\n",
      "[[4, 2, 3], [4, 2, 3], [4, 2, 3]]\n",
      "[[1, 9, 3], [1, 9, 3], [1, 9, 3]]\n",
      "[[4, 2, 3], [4, 2, 3], [4, 2, 3]]\n"
     ]
    }
   ],
   "source": [
    "from copy import deepcopy\n",
    "\n",
    "a = [1, 2, 3]\n",
    "\n",
    "b = [a, a, a]\n",
    "\n",
    "f = a.copy()\n",
    "\n",
    "print(f)\n",
    "print(a)\n",
    "\n",
    "f[0] = 6\n",
    "\n",
    "print(f)\n",
    "print(a)\n",
    "\n",
    "c = b.copy()\n",
    "d = deepcopy(b)\n",
    "e = list(b)\n",
    "\n",
    "c.append(\"hello\")\n",
    "\n",
    "c[0][0] = 4\n",
    "d[2][1] = 9\n",
    "\n",
    "print(c)\n",
    "print(b)\n",
    "print(d)\n",
    "print(e)\n",
    "\n",
    "\n",
    "#print(b)"
   ]
  },
  {
   "cell_type": "code",
   "execution_count": 6,
   "metadata": {
    "id": "b6RGb4u3fWcz"
   },
   "outputs": [],
   "source": [
    "a = (1, 2, 3)\n",
    "\n",
    "a = (4, 2, 3)"
   ]
  },
  {
   "cell_type": "code",
   "execution_count": 7,
   "metadata": {
    "id": "I83XmHFlfbZq"
   },
   "outputs": [
    {
     "name": "stdout",
     "output_type": "stream",
     "text": [
      "[(4, 2, 3), (1, 2, 3), (1, 2, 3)]\n"
     ]
    }
   ],
   "source": [
    "a = (1, 2, 3)\n",
    "\n",
    "b = [a, a, a]\n",
    "\n",
    "b[0] = (4,2,3)\n",
    "\n",
    "print(b)"
   ]
  },
  {
   "cell_type": "markdown",
   "metadata": {
    "id": "Os03t5TFfoAd"
   },
   "source": [
    "Strings are immutable"
   ]
  },
  {
   "cell_type": "code",
   "execution_count": 8,
   "metadata": {
    "id": "WDVxYxjEfxWH"
   },
   "outputs": [
    {
     "ename": "TypeError",
     "evalue": "'str' object does not support item assignment",
     "output_type": "error",
     "traceback": [
      "\u001b[1;31m---------------------------------------------------------------------------\u001b[0m",
      "\u001b[1;31mTypeError\u001b[0m                                 Traceback (most recent call last)",
      "Cell \u001b[1;32mIn [8], line 3\u001b[0m\n\u001b[0;32m      1\u001b[0m a \u001b[38;5;241m=\u001b[39m \u001b[38;5;124m\"\u001b[39m\u001b[38;5;124mthis is a string\u001b[39m\u001b[38;5;124m\"\u001b[39m\n\u001b[1;32m----> 3\u001b[0m a[\u001b[38;5;241m0\u001b[39m] \u001b[38;5;241m=\u001b[39m \u001b[38;5;124m\"\u001b[39m\u001b[38;5;124mg\u001b[39m\u001b[38;5;124m\"\u001b[39m\n",
      "\u001b[1;31mTypeError\u001b[0m: 'str' object does not support item assignment"
     ]
    }
   ],
   "source": [
    "a = \"this is a string\"\n",
    "\n",
    "a[0] = \"g\""
   ]
  },
  {
   "cell_type": "code",
   "execution_count": null,
   "metadata": {
    "id": "Y6OCAPKuf2tu"
   },
   "outputs": [],
   "source": [
    "a = \"this is another string\"\n",
    "\n",
    "print(a[0:3])\n",
    "print(a[:3])\n",
    "print(a[3:])\n",
    "print(a[3:len(a)])\n",
    "print(a[6:14:2])\n",
    "print(a[-1:0:-1]+a[0])"
   ]
  },
  {
   "cell_type": "markdown",
   "metadata": {
    "id": "lMx7Rr0ggiER"
   },
   "source": [
    "Some tricks when you want to work on strings"
   ]
  },
  {
   "cell_type": "code",
   "execution_count": null,
   "metadata": {
    "id": "FIabDHjHgmIo"
   },
   "outputs": [],
   "source": [
    "a = \"a,string,separated,by,commas\"\n",
    "\n",
    "print(a.split(\",\"))"
   ]
  },
  {
   "cell_type": "code",
   "execution_count": null,
   "metadata": {
    "id": "b3fKC8xUgufF"
   },
   "outputs": [],
   "source": [
    "a = \"\"\"a string\n",
    "separated by\n",
    "new lines\"\"\"\n",
    "\n",
    "print(a.split('\\n'))"
   ]
  },
  {
   "cell_type": "code",
   "execution_count": null,
   "metadata": {
    "id": "50juZVeJg8kh"
   },
   "outputs": [],
   "source": [
    "a = [\"a\", \"bunch\", \"of\", \"disjointed\", \"strings\"]\n",
    "print(\" \".join(a))\n",
    "print(\"\".join(a))"
   ]
  },
  {
   "cell_type": "markdown",
   "metadata": {
    "id": "mp4NoD_ihg2L"
   },
   "source": [
    "An very rough and non-scalable example of handling some data found in a file"
   ]
  },
  {
   "cell_type": "code",
   "execution_count": null,
   "metadata": {
    "id": "dj8wME6ahXav"
   },
   "outputs": [],
   "source": [
    "f = open('myfile.txt', 'r')\n",
    "a = f.read()\n",
    "f.close()\n",
    "\n",
    "print(a)\n",
    "print(type(a))"
   ]
  },
  {
   "cell_type": "code",
   "execution_count": null,
   "metadata": {
    "id": "EjbOv54vifcc"
   },
   "outputs": [],
   "source": [
    "\n",
    "b = a.replace(' ', '').replace('(', '').replace(')', '')\n",
    "\n",
    "print(b)\n"
   ]
  },
  {
   "cell_type": "code",
   "execution_count": null,
   "metadata": {
    "id": "ZFrljuTZigmG"
   },
   "outputs": [],
   "source": [
    "\n",
    "c = b.split('\\n')\n",
    "\n",
    "print(c)\n",
    "\n"
   ]
  },
  {
   "cell_type": "code",
   "execution_count": null,
   "metadata": {
    "id": "xHt1UlUOih7I"
   },
   "outputs": [],
   "source": [
    "\n",
    "d = []\n",
    "\n",
    "for i in c:\n",
    "  e = i.split(',')\n",
    "  f = []\n",
    "  for j in e:\n",
    "    f.append(int(j))\n",
    "  d.append(f)\n",
    "\n",
    "print(d)"
   ]
  },
  {
   "cell_type": "markdown",
   "metadata": {
    "id": "4n5EJtf5lC8h"
   },
   "source": [
    "You could do this faster and more efficiently with a bit of python wizardry. "
   ]
  },
  {
   "cell_type": "code",
   "execution_count": null,
   "metadata": {
    "id": "SEbPaUjllKWk"
   },
   "outputs": [],
   "source": [
    "d = [j.split(',') for j in c]\n",
    "  \n",
    "print(d)\n",
    "\n",
    "t = ['3', '1', '6']\n",
    "\n",
    "t2 = [int(i) for i in t]\n",
    "print(t2)\n",
    "\n",
    "e = [[int(i) for i in t] for t in d]\n",
    "\n",
    "print(e)"
   ]
  },
  {
   "cell_type": "markdown",
   "metadata": {
    "id": "ZChSOUqPln5N"
   },
   "source": [
    "A step by step demonstration of the above"
   ]
  },
  {
   "cell_type": "code",
   "execution_count": null,
   "metadata": {
    "id": "N5FucWM7lwA8"
   },
   "outputs": [],
   "source": [
    "e = [[int(i) for i in j.split(',')] for j in c]\n",
    "print(e)\n",
    "\n",
    "\n",
    "f = [int(i) for i in e[0]]\n",
    "print(f)"
   ]
  },
  {
   "cell_type": "markdown",
   "metadata": {
    "id": "tIZ8Eng4inGN"
   },
   "source": [
    "Dictionaries"
   ]
  },
  {
   "cell_type": "code",
   "execution_count": null,
   "metadata": {
    "id": "9Cqj5292iorq"
   },
   "outputs": [],
   "source": [
    "a = {\"dinner\": 1, 4: 2}\n",
    "\n",
    "print(a[\"dinner\"])\n",
    "print(a[4])"
   ]
  },
  {
   "cell_type": "code",
   "execution_count": null,
   "metadata": {
    "id": "IxpNw1mAi3Zt"
   },
   "outputs": [],
   "source": [
    "print(a[\"stag\"])"
   ]
  },
  {
   "cell_type": "code",
   "execution_count": null,
   "metadata": {
    "id": "2wi6Aut0i7nC"
   },
   "outputs": [],
   "source": [
    "a[\"stag\"] = 8\n",
    "\n",
    "print(a[\"stag\"])"
   ]
  },
  {
   "cell_type": "markdown",
   "metadata": {
    "id": "wVuA_LutjK2W"
   },
   "source": [
    "# **numpy**\n",
    "\n",
    "numpy is a python library that performs linear algebra operations very fast"
   ]
  },
  {
   "cell_type": "code",
   "execution_count": null,
   "metadata": {
    "id": "dGKPnWgMjgA-"
   },
   "outputs": [],
   "source": [
    "import numpy"
   ]
  },
  {
   "cell_type": "markdown",
   "metadata": {
    "id": "xXrxMLY7jiqT"
   },
   "source": [
    "numpy arrays"
   ]
  },
  {
   "cell_type": "code",
   "execution_count": null,
   "metadata": {
    "id": "mBtNhayYjh-L"
   },
   "outputs": [],
   "source": [
    "a = numpy.array([1,2,3])\n",
    "print(a)\n",
    "\n",
    "a[0] = 6\n",
    "print(a)\n",
    "\n",
    "a.append(7)"
   ]
  },
  {
   "cell_type": "markdown",
   "metadata": {
    "id": "rS5RB9epj5N9"
   },
   "source": [
    "Something to save time"
   ]
  },
  {
   "cell_type": "code",
   "execution_count": null,
   "metadata": {
    "id": "Q-z4gETGkB_E"
   },
   "outputs": [],
   "source": [
    "import numpy as np"
   ]
  },
  {
   "cell_type": "markdown",
   "metadata": {
    "id": "2J-P0YoekJ2B"
   },
   "source": [
    "Some basic operations"
   ]
  },
  {
   "cell_type": "code",
   "execution_count": null,
   "metadata": {
    "id": "P7m0zVvykL2b"
   },
   "outputs": [],
   "source": [
    "list1 = [1,2,3]\n",
    "list2 = [4,5,6]\n",
    "\n",
    "print(list1+list2)\n",
    "\n",
    "a = np.array([1,2,3])\n",
    "b = np.array((4,5,6))\n",
    "\n",
    "print(a+b)"
   ]
  },
  {
   "cell_type": "code",
   "execution_count": null,
   "metadata": {
    "id": "qrYLFnrtkaZl"
   },
   "outputs": [],
   "source": [
    "print(a*b)\n",
    "print(np.dot(a,b))"
   ]
  },
  {
   "cell_type": "code",
   "execution_count": null,
   "metadata": {
    "id": "qoQzRcb1kceR"
   },
   "outputs": [],
   "source": [
    "print(2*(b-a))\n",
    "print(list1*3)"
   ]
  },
  {
   "cell_type": "markdown",
   "metadata": {
    "id": "nEQlpbCoklc2"
   },
   "source": [
    "Arrays can have more than one dimension"
   ]
  },
  {
   "cell_type": "code",
   "execution_count": null,
   "metadata": {
    "id": "NHZsIP-jkpu1"
   },
   "outputs": [],
   "source": [
    "a = numpy.array([[1, 2, 3], [2, 5, 7], [8, 12, -3]])\n",
    "\n",
    "print(a)"
   ]
  },
  {
   "cell_type": "markdown",
   "metadata": {
    "id": "-cDitzETmJzy"
   },
   "source": [
    "To see the dimension and size of an array"
   ]
  },
  {
   "cell_type": "code",
   "execution_count": null,
   "metadata": {
    "id": "gw_fmGVGmOHD"
   },
   "outputs": [],
   "source": [
    "print(a.shape)\n",
    "print(type(a.shape))"
   ]
  },
  {
   "cell_type": "markdown",
   "metadata": {
    "id": "MFBQsWRlmgfx"
   },
   "source": [
    "Vector/matrix multiplication"
   ]
  },
  {
   "cell_type": "code",
   "execution_count": null,
   "metadata": {
    "id": "sjDDWVJkmkXN"
   },
   "outputs": [],
   "source": [
    "b = np.array((0.1, 1, 5))\n",
    "\n",
    "print(b*a)"
   ]
  },
  {
   "cell_type": "markdown",
   "metadata": {
    "id": "ikDsZkl8muzJ"
   },
   "source": [
    "Transpose"
   ]
  },
  {
   "cell_type": "code",
   "execution_count": null,
   "metadata": {
    "id": "N4DbilcAm0KH"
   },
   "outputs": [],
   "source": [
    "print(a.T)\n"
   ]
  },
  {
   "cell_type": "markdown",
   "metadata": {
    "id": "NnBA6MuBnzln"
   },
   "source": [
    "Reshape"
   ]
  },
  {
   "cell_type": "code",
   "execution_count": null,
   "metadata": {
    "id": "yn0lGIjwn01c"
   },
   "outputs": [],
   "source": [
    "print(b.shape)\n",
    "b = b.reshape((1,3))\n",
    "print(b.shape)\n",
    "print(b*a)\n"
   ]
  },
  {
   "cell_type": "code",
   "execution_count": null,
   "metadata": {
    "id": "Uu9y41u6oJIl"
   },
   "outputs": [],
   "source": [
    "b = b.reshape((3,1))\n",
    "print(b*a)"
   ]
  },
  {
   "cell_type": "code",
   "execution_count": null,
   "metadata": {
    "id": "8yZe7RBioL_8"
   },
   "outputs": [],
   "source": [
    "c = a.reshape((9,))\n",
    "print(c)"
   ]
  },
  {
   "cell_type": "markdown",
   "metadata": {
    "id": "iMmi55LNoxn4"
   },
   "source": [
    "Numpy arrays are neither mutable nor immutable"
   ]
  },
  {
   "cell_type": "code",
   "execution_count": null,
   "metadata": {
    "id": "f_KCBzavogiG"
   },
   "outputs": [],
   "source": [
    "a = np.array((3,1))\n",
    "b = np.array((a,a,a))\n",
    "\n",
    "b[0][0] = 1\n",
    "print(b)"
   ]
  },
  {
   "cell_type": "code",
   "execution_count": null,
   "metadata": {
    "id": "M4KUsMtTo63-"
   },
   "outputs": [],
   "source": [
    "b[1] = a\n",
    "b[2] = a\n",
    "\n",
    "a[0] = 4\n",
    "print(b)"
   ]
  },
  {
   "cell_type": "markdown",
   "metadata": {
    "id": "7ohaCZnepFO2"
   },
   "source": [
    "You can do weird things with numpy arrays"
   ]
  },
  {
   "cell_type": "code",
   "execution_count": null,
   "metadata": {
    "id": "0Gd8B10UpJMm"
   },
   "outputs": [],
   "source": [
    "a = numpy.array([[1, 2, 3], [2, 5, 1], [8, 12, -3]])\n",
    "\n",
    "print(a)\n",
    "\n",
    "b = np.array([9, 4])\n",
    "\n",
    "a[0][1:] = b\n",
    "\n",
    "print(a)"
   ]
  },
  {
   "cell_type": "code",
   "execution_count": null,
   "metadata": {
    "id": "yGUS0W8cpajY"
   },
   "outputs": [],
   "source": [
    "b = [2, 5, 1]\n",
    "\n",
    "print(a == 2)\n",
    "\n",
    "print(a == (8, 12, -3))\n",
    "\n",
    "print(a == b)\n"
   ]
  },
  {
   "cell_type": "markdown",
   "metadata": {
    "id": "dPXg9NCNptX3"
   },
   "source": [
    "It gets even weirder"
   ]
  },
  {
   "cell_type": "code",
   "execution_count": null,
   "metadata": {
    "id": "QazqvFoXp6nb"
   },
   "outputs": [],
   "source": [
    "print(a==1)\n",
    "\n",
    "a[a==1] = 800\n",
    "\n",
    "print(a)"
   ]
  },
  {
   "cell_type": "code",
   "execution_count": null,
   "metadata": {
    "id": "jaRpQjTeqB15"
   },
   "outputs": [],
   "source": [
    "a[:,2]=-10\n",
    "\n",
    "print(a)"
   ]
  },
  {
   "cell_type": "code",
   "execution_count": null,
   "metadata": {
    "id": "ed5189d-qOcX"
   },
   "outputs": [],
   "source": [
    "a[1:,0:2] = 0\n",
    "\n",
    "print(a)"
   ]
  },
  {
   "cell_type": "markdown",
   "metadata": {
    "id": "cc1jRWLhqdh0"
   },
   "source": [
    "What are these things good for? An example: Round every element in this numpy array"
   ]
  },
  {
   "cell_type": "code",
   "execution_count": null,
   "metadata": {
    "id": "Y_Oem77YqvNa"
   },
   "outputs": [],
   "source": [
    "a = np.array([[0.1, 0.7, 0.3], [0.8, 1, 0.4], [0, 0.3, 0.2]])\n",
    "print(a)"
   ]
  },
  {
   "cell_type": "code",
   "execution_count": null,
   "metadata": {
    "id": "PooNfn88q8--"
   },
   "outputs": [],
   "source": [
    "print(round(a))"
   ]
  },
  {
   "cell_type": "code",
   "execution_count": null,
   "metadata": {
    "id": "AgLNTfwoq_7Y"
   },
   "outputs": [],
   "source": [
    "a[a >= 0.5] = 1\n",
    "a[a < 0.5] = 0\n",
    "\n",
    "print(a)"
   ]
  },
  {
   "cell_type": "markdown",
   "metadata": {
    "id": "0oZ8lwGjrTTW"
   },
   "source": [
    "Some additional helpers"
   ]
  },
  {
   "cell_type": "code",
   "execution_count": null,
   "metadata": {
    "id": "7ohqlWLMrVPa"
   },
   "outputs": [],
   "source": [
    "a = np.zeros((4,5))\n",
    "\n",
    "print(a)"
   ]
  },
  {
   "cell_type": "code",
   "execution_count": null,
   "metadata": {
    "id": "o6LtSPTMrZeg"
   },
   "outputs": [],
   "source": [
    "a = np.random.random((3,6))\n",
    "\n",
    "print(a)"
   ]
  },
  {
   "cell_type": "code",
   "execution_count": null,
   "metadata": {
    "id": "gavbysiGrgq6"
   },
   "outputs": [],
   "source": [
    "a = np.ones((7,))\n",
    "\n",
    "print(a)"
   ]
  },
  {
   "cell_type": "markdown",
   "metadata": {
    "id": "5Jm_967Qrm7z"
   },
   "source": [
    "You can use more dimensions of you want"
   ]
  },
  {
   "cell_type": "code",
   "execution_count": null,
   "metadata": {
    "id": "kYYhuP2grqLc"
   },
   "outputs": [],
   "source": [
    "a = np.zeros((4,2,5,3))\n",
    "\n",
    "print(a)"
   ]
  },
  {
   "cell_type": "markdown",
   "metadata": {
    "id": "CEl90My8r836"
   },
   "source": [
    "Identity"
   ]
  },
  {
   "cell_type": "code",
   "execution_count": null,
   "metadata": {
    "id": "RSExYdH_r_Jj"
   },
   "outputs": [],
   "source": [
    "a = np.identity(4)\n",
    "print(a)"
   ]
  },
  {
   "cell_type": "markdown",
   "metadata": {
    "id": "xuLT_E0nsLGT"
   },
   "source": [
    "More methods"
   ]
  },
  {
   "cell_type": "code",
   "execution_count": null,
   "metadata": {
    "id": "sbeTy8rFsH_I"
   },
   "outputs": [],
   "source": [
    "a = np.random.random((5,3))\n",
    "\n",
    "print(a)"
   ]
  },
  {
   "cell_type": "code",
   "execution_count": null,
   "metadata": {
    "id": "jfvJplarsYtY"
   },
   "outputs": [],
   "source": [
    "print(np.sum(a))"
   ]
  },
  {
   "cell_type": "code",
   "execution_count": null,
   "metadata": {
    "id": "3NVwfV-JsdOZ"
   },
   "outputs": [],
   "source": [
    "print(np.sum(a, axis=1))"
   ]
  },
  {
   "cell_type": "code",
   "execution_count": null,
   "metadata": {
    "id": "sd1S746tsop2"
   },
   "outputs": [],
   "source": [
    "a = np.random.random((2,5,3))\n",
    "\n",
    "print(a)\n",
    "\n",
    "print(np.sum(a, axis=(1, 2)))"
   ]
  },
  {
   "cell_type": "code",
   "execution_count": null,
   "metadata": {
    "id": "gtRF0y4rtGQx"
   },
   "outputs": [],
   "source": [
    "a = np.random.random((5,3))\n",
    "\n",
    "print(np.mean(a, axis=1))\n",
    "\n",
    "print(np.std(a))\n",
    "\n",
    "print(np.max(a, axis = 0))"
   ]
  },
  {
   "cell_type": "markdown",
   "metadata": {
    "id": "nQTNOklytbPX"
   },
   "source": [
    "Inverse of matrix"
   ]
  },
  {
   "cell_type": "code",
   "execution_count": null,
   "metadata": {
    "id": "KnUXvSw0tc-U"
   },
   "outputs": [],
   "source": [
    "a = np.array([[5, 2], [4, 3]])\n",
    "\n",
    "print(a)\n",
    "\n",
    "b = np.linalg.inv(a)\n",
    "\n",
    "print(b)"
   ]
  },
  {
   "cell_type": "markdown",
   "metadata": {
    "id": "5mEy6h1suIav"
   },
   "source": [
    "Not everything has an inverse. Raises an error if so"
   ]
  },
  {
   "cell_type": "code",
   "execution_count": null,
   "metadata": {
    "id": "z8fJ39iBuN_7"
   },
   "outputs": [],
   "source": [
    "np.linalg.inv(np.array(((1,1),(1,1))))"
   ]
  },
  {
   "cell_type": "markdown",
   "metadata": {
    "id": "Vv33ywHdt8ri"
   },
   "source": [
    "Matrix multiplication"
   ]
  },
  {
   "cell_type": "code",
   "execution_count": null,
   "metadata": {
    "id": "GAWhtlUQt-hr"
   },
   "outputs": [],
   "source": [
    "\n",
    "print(np.matmul(a,b))\n",
    "print(np.identity(2))"
   ]
  },
  {
   "cell_type": "code",
   "execution_count": null,
   "metadata": {
    "id": "GAATv_0ccbIa"
   },
   "outputs": [],
   "source": []
  }
 ],
 "metadata": {
  "colab": {
   "collapsed_sections": [],
   "provenance": [],
   "toc_visible": true
  },
  "kernelspec": {
   "display_name": "Python 3 (ipykernel)",
   "language": "python",
   "name": "python3"
  },
  "language_info": {
   "codemirror_mode": {
    "name": "ipython",
    "version": 3
   },
   "file_extension": ".py",
   "mimetype": "text/x-python",
   "name": "python",
   "nbconvert_exporter": "python",
   "pygments_lexer": "ipython3",
   "version": "3.8.5"
  }
 },
 "nbformat": 4,
 "nbformat_minor": 1
}
